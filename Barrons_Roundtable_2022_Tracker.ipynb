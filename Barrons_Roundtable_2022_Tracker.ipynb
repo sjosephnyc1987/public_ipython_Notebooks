{
  "nbformat": 4,
  "nbformat_minor": 0,
  "metadata": {
    "colab": {
      "name": "Barrons Roundtable 2022 Tracker.ipynb",
      "provenance": [],
      "authorship_tag": "ABX9TyN482g9+WeSyVQ3jKw9a+i6",
      "include_colab_link": true
    },
    "kernelspec": {
      "name": "python3",
      "display_name": "Python 3"
    },
    "language_info": {
      "name": "python"
    }
  },
  "cells": [
    {
      "cell_type": "markdown",
      "metadata": {
        "id": "view-in-github",
        "colab_type": "text"
      },
      "source": [
        "<a href=\"https://colab.research.google.com/github/sjosephnyc1987/public_ipython_Notebooks/blob/main/Barrons_Roundtable_2022_Tracker.ipynb\" target=\"_parent\"><img src=\"https://colab.research.google.com/assets/colab-badge.svg\" alt=\"Open In Colab\"/></a>"
      ]
    },
    {
      "cell_type": "markdown",
      "source": [
        "# Barron's Roundtable 2022 Tracker\n",
        "\n",
        "How good are the stock picks of managers that appear in the Barron's Roundtable. We track the stock picks of 5 managers in the Januanry 2022 issue against a benchmark to see how their picks perform.\n",
        "\n",
        "You can see the roundtables [here](https://www.barrons.com/articles/roundtable-2022-stock-market-investing-opportunities-51642216617?mod=past_editions) and [here](https://www.barrons.com/articles/roundtable-2022-stock-market-investing-picks-51642816831?mod=past_editions)\n"
      ],
      "metadata": {
        "id": "Dq65QuRfO6Xr"
      }
    },
    {
      "cell_type": "markdown",
      "source": [
        ""
      ],
      "metadata": {
        "id": "NPGVMzQLPDpV"
      }
    }
  ]
}