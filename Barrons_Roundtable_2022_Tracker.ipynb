{
  "nbformat": 4,
  "nbformat_minor": 0,
  "metadata": {
    "colab": {
      "name": "Barrons Roundtable 2022 Tracker.ipynb",
      "provenance": [],
      "collapsed_sections": [],
      "authorship_tag": "ABX9TyMjJjqBr614+re3sUJVFmQR",
      "include_colab_link": true
    },
    "kernelspec": {
      "name": "python3",
      "display_name": "Python 3"
    },
    "language_info": {
      "name": "python"
    }
  },
  "cells": [
    {
      "cell_type": "markdown",
      "metadata": {
        "id": "view-in-github",
        "colab_type": "text"
      },
      "source": [
        "<a href=\"https://colab.research.google.com/github/sjosephnyc1987/public_ipython_Notebooks/blob/main/Barrons_Roundtable_2022_Tracker.ipynb\" target=\"_parent\"><img src=\"https://colab.research.google.com/assets/colab-badge.svg\" alt=\"Open In Colab\"/></a>"
      ]
    },
    {
      "cell_type": "markdown",
      "source": [
        "# Barron's Roundtable 2022 Tracker\n",
        "\n",
        "How good are the stock picks of managers that appear in the Barron's Roundtable. We track the stock picks of 6 managers in the Januanry 2022 issue against a benchmark to see how their picks perform.\n",
        "\n",
        "You can see the roundtables [here](https://www.barrons.com/articles/roundtable-2022-stock-market-investing-opportunities-51642216617?mod=past_editions) and [here](https://www.barrons.com/articles/roundtable-2022-stock-market-investing-picks-51642816831?mod=past_editions)\n",
        "( paywall !! )\n",
        "\n",
        "The 6 managers (and their stock picks) we'll be tracking are \n",
        "1. Todd Ahlsten - (DE, FISV, MA, ADBE, AMAT, DHR)\n",
        "2. Sonal Desai - (CPREX, FHYVX, PAVE, GLFOX, EAPCX, SRLN, FRIAX, FEIFX)\n",
        "3. Mario Gabelli - (BATRA, MSGS, VIAC, CNHI, DAN, GPC, DRQ, HAL, TV)\n",
        "4. Henry Ellenbogen - (MSCI, JBHT, WRBY, MTN, SHOP)\n",
        "5. David Giroux - (GE, BDX, TMO, KDP, TEL, AMZN)\n",
        "6. Abby Joseph Cohen  - (FISV\n",
        ", PFE, ISRG, SIEGY, SEDG)\n",
        "\n",
        "For simplicity's sake we're going to assume each of the portfolios are *equally weighted*. We're also going to eliminate any foriegn stocks and ADRs from these portfolios.\n",
        "\n",
        "Let's see who does best ?\n"
      ],
      "metadata": {
        "id": "Dq65QuRfO6Xr"
      }
    },
    {
      "cell_type": "code",
      "source": [
        "#imports\n",
        "import yfinance as yf\n",
        "import datetime\n",
        "import numpy as np\n",
        "import matplotlib.pyplot as plt\n",
        "from datetime import date\n",
        "\n"
      ],
      "metadata": {
        "id": "-2m_UHmnfflD"
      },
      "execution_count": null,
      "outputs": []
    },
    {
      "cell_type": "code",
      "source": [
        "#Part 2 of the article was published January 24th, so we start on the following Monday\n",
        "start = datetime.datetime(2022,1,25)\n",
        "end = date.today()\n"
      ],
      "metadata": {
        "id": "lkZMrXewfg61"
      },
      "execution_count": 3,
      "outputs": []
    },
    {
      "cell_type": "markdown",
      "source": [
        "We define each of the manager portfolio's based on the article. We also create a corresponding portfolio remark variable, which we use in various places like the graph legend"
      ],
      "metadata": {
        "id": "VPVq2uiOig28"
      }
    },
    {
      "cell_type": "code",
      "source": [
        "#Manager Portfolios\n",
        "portfolio1 = ['DE','FISV','MA','ADBE','AMAT','DHR']  \n",
        "portfolio1_remark= \"Todd Ahlsten\"\n",
        "\n",
        "portfolio2 = ['CPREX','FHYVX','PAVE','GLFOX','EAPCX','SRLN','FRIAX','FEIFX']\n",
        "portfolio2_remark= \"Sonal Desai\"\n",
        "\n",
        "portfolio3 = ['BATRA','MSGS','VIAC','CNHI','DAN','GPC','DRQ','HAL','TV']\n",
        "portfolio3_remark= \"Mario Gabelli\"\n",
        "\n",
        "portfolio4 = ['GE','BDX','TMO','KDP','TEL','AMZN']\n",
        "portfolio4_remark= \"David  Giroux\"\n",
        "\n",
        "portfolio5 = ['FISV','PFE','ISRG','SIEGY','SEDG']\n",
        "portfolio5_remark= \"Abby Joseph Cohen\"\n",
        "\n",
        "#Benchmark\n",
        "Benchmark=['SPY']\n",
        "Benchmark_remark = \"Benchmark - SPY\""
      ],
      "metadata": {
        "id": "2lLh6ltSi_K9"
      },
      "execution_count": 4,
      "outputs": []
    },
    {
      "cell_type": "code",
      "source": [
        "#Get Stock prices from yahoo finance and hold it in a dataframe\n",
        "portfolio_df_1 = yf.download(portfolio1,start=start,end=end)['Adj Close']\n",
        "portfolio_df_2 = yf.download(portfolio2,start=start,end=end)['Adj Close']\n",
        "portfolio_df_3 = yf.download(portfolio3,start=start,end=end)['Adj Close']\n",
        "portfolio_df_4 = yf.download(portfolio4,start=start,end=end)['Adj Close']\n",
        "portfolio_df_5 = yf.download(portfolio5,start=start,end=end)['Adj Close']\n",
        "bench_df = yf.download(Benchmark,start=start,end=end)['Adj Close']\n",
        "\n",
        "#let's spot check one of the dataframes\n",
        "print(portfolio_df_3.head())"
      ],
      "metadata": {
        "colab": {
          "base_uri": "https://localhost:8080/"
        },
        "id": "nGjqWRC7jEHV",
        "outputId": "dd0dc33c-baf3-42f3-a4a9-dca68b5c6d47"
      },
      "execution_count": 6,
      "outputs": [
        {
          "output_type": "stream",
          "name": "stdout",
          "text": [
            "[*********************100%***********************]  6 of 6 completed\n",
            "[*********************100%***********************]  8 of 8 completed\n",
            "[*********************100%***********************]  9 of 9 completed\n",
            "[*********************100%***********************]  6 of 6 completed\n",
            "[*********************100%***********************]  5 of 5 completed\n",
            "[*********************100%***********************]  1 of 1 completed\n",
            "                BATRA   CNHI        DAN        DRQ         GPC        HAL  \\\n",
            "Date                                                                        \n",
            "2022-01-25  26.605742  14.86  22.196890  26.639999  130.716705  30.480522   \n",
            "2022-01-26  26.368013  15.19  22.097441  25.950001  131.084061  30.689770   \n",
            "2022-01-27  26.278864  14.98  21.351578  25.570000  128.959396  30.719662   \n",
            "2022-01-28  26.932617  14.98  20.555990  25.530001  129.396240  31.247766   \n",
            "2022-01-31  27.784475  15.13  21.540529  25.290001  132.275452  30.629984   \n",
            "\n",
            "                  MSGS     TV       VIAC  \n",
            "Date                                      \n",
            "2022-01-25  163.139999   9.56  32.618233  \n",
            "2022-01-26  161.779999   9.54  31.436989  \n",
            "2022-01-27  159.580002   9.73  31.178902  \n",
            "2022-01-28  161.330002   9.61  32.727425  \n",
            "2022-01-31  166.070007  10.23  33.203892  \n"
          ]
        }
      ]
    },
    {
      "cell_type": "markdown",
      "source": [
        "Next we calculate percentage change of each stock in the portfolio aka Returns. Then we do a spot check on one of them to make sure it all works.\n"
      ],
      "metadata": {
        "id": "TwbZ6bS3kMEH"
      }
    },
    {
      "cell_type": "code",
      "source": [
        "#percentage change aka returns\n",
        "portfolio_df_1_pctChg = portfolio_df_1.pct_change()\n",
        "portfolio_df_2_pctChg = portfolio_df_2.pct_change()\n",
        "portfolio_df_3_pctChg = portfolio_df_3.pct_change()\n",
        "portfolio_df_4_pctChg = portfolio_df_4.pct_change()\n",
        "portfolio_df_5_pctChg = portfolio_df_5.pct_change()\n",
        "bench_df_pctChg = bench_df.pct_change()\n",
        "\n",
        "#spot check\n",
        "print(\"\\n---------percentage change spot check--------\")\n",
        "print(portfolio_df_3_pctChg.head())\n",
        "print(\"\\n\\n---------bench percentage change--------\")\n",
        "print(bench_df_pctChg.head())\n"
      ],
      "metadata": {
        "colab": {
          "base_uri": "https://localhost:8080/"
        },
        "id": "d0e0LdFXkmLM",
        "outputId": "8f0c1b8a-b1ce-4593-b887-425b7e526fd0"
      },
      "execution_count": 10,
      "outputs": [
        {
          "output_type": "stream",
          "name": "stdout",
          "text": [
            "\n",
            "---------percentage change spot check--------\n",
            "               BATRA      CNHI       DAN       DRQ       GPC       HAL  \\\n",
            "Date                                                                     \n",
            "2022-01-25       NaN       NaN       NaN       NaN       NaN       NaN   \n",
            "2022-01-26 -0.008935  0.022207 -0.004480 -0.025901  0.002810  0.006865   \n",
            "2022-01-27 -0.003381 -0.013825 -0.033753 -0.014644 -0.016208  0.000974   \n",
            "2022-01-28  0.024878  0.000000 -0.037261 -0.001564  0.003387  0.017191   \n",
            "2022-01-31  0.031629  0.010013  0.047895 -0.009401  0.022251 -0.019770   \n",
            "\n",
            "                MSGS        TV      VIAC  \n",
            "Date                                      \n",
            "2022-01-25       NaN       NaN       NaN  \n",
            "2022-01-26 -0.008336 -0.002092 -0.036214  \n",
            "2022-01-27 -0.013599  0.019916 -0.008210  \n",
            "2022-01-28  0.010966 -0.012333  0.049666  \n",
            "2022-01-31  0.029381  0.064516  0.014559  \n",
            "\n",
            "\n",
            "---------bench percentage change--------\n",
            "Date\n",
            "2022-01-25         NaN\n",
            "2022-01-26   -0.002509\n",
            "2022-01-27   -0.004938\n",
            "2022-01-28    0.024835\n",
            "2022-01-31    0.018011\n",
            "Name: Adj Close, dtype: float64\n"
          ]
        }
      ]
    },
    {
      "cell_type": "markdown",
      "source": [
        "### Portfolio Weights\n",
        "\n",
        "We're going to assume that the portfolio above is *equally weighted*. Equally weighted means that the same amount of money is invested in each stock and this implies that each stock is of a different quantity. Any good strategy should at least ideally outperform an equally weighted portfolio, which holds the same weight in every stock by default. \n",
        "\n",
        "The weight of each stock is calculated thus \n",
        " Weight = 100% / number of stocks which in this case is 100/2 = 50% or 0.5\n",
        "\n",
        "For example if we have a 2 stock portfolio The total amount we want to invest is \\$50,000 and so the amount per stock is \\$50,000 x 0.5 = $25,000. In theory we could do all the calculations without this number, but let’s use it here anyways."
      ],
      "metadata": {
        "id": "xiuODUuXll1O"
      }
    },
    {
      "cell_type": "code",
      "source": [
        "#calulating portfolio weights\n",
        "numstocks1 = len(portfolio1)\n",
        "numstocks2 = len(portfolio2)\n",
        "numstocks3 = len(portfolio3)\n",
        "numstocks4 = len(portfolio4)\n",
        "numstocks5 = len(portfolio5)\n",
        "\n",
        "print(\"---------spot chceking numstocks--------\")\n",
        "print(numstocks4, \"\\n\\n\")\n",
        "\n",
        "#Calculate portfolio weights\n",
        "print(\"---------Portfolio Weights--------\")\n",
        "portfolio_weights_1= np.repeat(1/numstocks1, numstocks1)\n",
        "print(portfolio_weights_1 )\n",
        "portfolio_weights_2= np.repeat(1/numstocks2, numstocks2)\n",
        "print(portfolio_weights_2)\n",
        "portfolio_weights_3= np.repeat(1/numstocks3, numstocks3)\n",
        "print(portfolio_weights_3)\n",
        "portfolio_weights_4= np.repeat(1/numstocks4, numstocks4)\n",
        "print(portfolio_weights_4)\n",
        "portfolio_weights_5= np.repeat(1/numstocks5, numstocks5)\n",
        "print(portfolio_weights_5)"
      ],
      "metadata": {
        "colab": {
          "base_uri": "https://localhost:8080/"
        },
        "id": "oclnoChkqI0m",
        "outputId": "5f2b7a50-dbb5-4b23-f94e-ea65f78bb9e9"
      },
      "execution_count": 15,
      "outputs": [
        {
          "output_type": "stream",
          "name": "stdout",
          "text": [
            "---------spot chceking numstocks--------\n",
            "6 \n",
            "\n",
            "\n",
            "---------Portfolio Weights--------\n",
            "[0.16666667 0.16666667 0.16666667 0.16666667 0.16666667 0.16666667]\n",
            "[0.125 0.125 0.125 0.125 0.125 0.125 0.125 0.125]\n",
            "[0.11111111 0.11111111 0.11111111 0.11111111 0.11111111 0.11111111\n",
            " 0.11111111 0.11111111 0.11111111]\n",
            "[0.16666667 0.16666667 0.16666667 0.16666667 0.16666667 0.16666667]\n",
            "[0.2 0.2 0.2 0.2 0.2]\n"
          ]
        }
      ]
    },
    {
      "cell_type": "markdown",
      "source": [
        "The important thing to remember here is that the portfolio daily change % is calculated as follows\n",
        "\n",
        "Porfolio Daliy Change %  =\n",
        "(Stock 1 DailyChange%) × (Stock 1 Weight) + (Stock 2 DailyChange%) × (Stock 2 Weight) + .... + (Stock n DailyChange %) × (Stock n Weight)\n",
        "\n"
      ],
      "metadata": {
        "id": "N7T6WeBtxBAC"
      }
    },
    {
      "cell_type": "code",
      "source": [
        "#We then calculate the Portfolio returns \n",
        "port_ret_1=portfolio_df_1_pctChg.iloc[:,0:numstocks1].mul(portfolio_weights_1,axis=1).sum(axis=1)\n",
        "port_ret_2=portfolio_df_2_pctChg.iloc[:,0:numstocks2].mul(portfolio_weights_2,axis=1).sum(axis=1)\n",
        "port_ret_3=portfolio_df_3_pctChg.iloc[:,0:numstocks3].mul(portfolio_weights_3,axis=1).sum(axis=1)\n",
        "port_ret_4=portfolio_df_4_pctChg.iloc[:,0:numstocks4].mul(portfolio_weights_4,axis=1).sum(axis=1)\n",
        "port_ret_5=portfolio_df_5_pctChg.iloc[:,0:numstocks5].mul(portfolio_weights_5,axis=1).sum(axis=1)\n",
        "\n",
        "#spot check\n",
        "print(\"\\n----spotchecking portfolio returns-----\\n\")\n",
        "print(port_ret_5.head())"
      ],
      "metadata": {
        "colab": {
          "base_uri": "https://localhost:8080/"
        },
        "id": "2DgOPtYqxrgv",
        "outputId": "bb7b351c-0aa1-4423-e2ea-1f250a188020"
      },
      "execution_count": 19,
      "outputs": [
        {
          "output_type": "stream",
          "name": "stdout",
          "text": [
            "\n",
            "----spotchecking portfolio returns-----\n",
            "\n",
            "Date\n",
            "2022-01-25    0.000000\n",
            "2022-01-26    0.001017\n",
            "2022-01-27   -0.003776\n",
            "2022-01-28    0.020673\n",
            "2022-01-31    0.033029\n",
            "dtype: float64\n"
          ]
        }
      ]
    },
    {
      "cell_type": "code",
      "source": [
        "#next we calculate the cumulative percentage change for each portfolio and benchmark\n",
        "cume_chg_1 = ((port_ret_1+1).cumprod()-1)\n",
        "cume_chg_2 = ((port_ret_2+1).cumprod()-1)\n",
        "cume_chg_3 = ((port_ret_3+1).cumprod()-1)\n",
        "cume_chg_4 = ((port_ret_4+1).cumprod()-1)\n",
        "cume_chg_5 = ((port_ret_5+1).cumprod()-1)\n",
        "bench_cume_chg = ((bench_df.pct_change()+1).cumprod()-1)*100\n",
        "\n",
        "print(\"\\n----spot check cumulative percentage change-----\")\n",
        "print(cume_chg_5.head())"
      ],
      "metadata": {
        "colab": {
          "base_uri": "https://localhost:8080/"
        },
        "id": "2Mw57TyvyQQA",
        "outputId": "2d5d5ba5-a2be-4461-9387-29fe36ed21e6"
      },
      "execution_count": 22,
      "outputs": [
        {
          "output_type": "stream",
          "name": "stdout",
          "text": [
            "\n",
            "----spot check cumulative percentage change-----\n",
            "Date\n",
            "2022-01-25    0.000000\n",
            "2022-01-26    0.001017\n",
            "2022-01-27   -0.002763\n",
            "2022-01-28    0.017852\n",
            "2022-01-31    0.051471\n",
            "dtype: float64\n"
          ]
        }
      ]
    },
    {
      "cell_type": "code",
      "source": [
        "#then the useable cumechange by multiplying by 100\n",
        "finalPortfolio_cume_chg_1 = (cume_chg_1)*100\n",
        "finalPortfolio_cume_chg_2 = (cume_chg_2)*100\n",
        "finalPortfolio_cume_chg_3 = (cume_chg_3)*100\n",
        "finalPortfolio_cume_chg_4 = (cume_chg_4)*100\n",
        "finalPortfolio_cume_chg_5 = (cume_chg_5)*100\n",
        "\n"
      ],
      "metadata": {
        "id": "DD80wyWuyrdf"
      },
      "execution_count": 23,
      "outputs": []
    },
    {
      "cell_type": "markdown",
      "source": [
        "Last we plot the different portfolios against the bechmark to visually monitor the performance differences"
      ],
      "metadata": {
        "id": "ZWQSGQGoy6Aw"
      }
    },
    {
      "cell_type": "code",
      "source": [
        "\n",
        "#ploting portfolio and benchmark\n",
        "plt.plot(finalPortfolio_cume_chg_1, color='pink',label = portfolio1_remark)\n",
        "plt.plot(finalPortfolio_cume_chg_2, color='teal',label = portfolio2_remark)\n",
        "plt.plot(finalPortfolio_cume_chg_3, color='brown',label = portfolio3_remark)\n",
        "plt.plot(finalPortfolio_cume_chg_4, color='purple',label = portfolio4_remark)\n",
        "plt.plot(finalPortfolio_cume_chg_5, color='green',label = portfolio5_remark)\n",
        "\n",
        "\n",
        "plt.plot(bench_cume_chg,'--',color='red',label = \"SPY\")\n",
        "plt.xticks(rotation=70)\n",
        "plt.title(\"Barrons RoundTable 2022 vs SPY\")\n",
        "plt.legend(loc='upper left')"
      ],
      "metadata": {
        "colab": {
          "base_uri": "https://localhost:8080/",
          "height": 346
        },
        "id": "CWqZr9IczH8i",
        "outputId": "1c574a06-3a75-4633-83dd-45eba51d3b28"
      },
      "execution_count": 29,
      "outputs": [
        {
          "output_type": "execute_result",
          "data": {
            "text/plain": [
              "<matplotlib.legend.Legend at 0x7f96987d10d0>"
            ]
          },
          "metadata": {},
          "execution_count": 29
        },
        {
          "output_type": "display_data",
          "data": {
            "text/plain": [
              "<Figure size 432x288 with 1 Axes>"
            ],
            "image/png": "[encoded data removed]"
          },
          "metadata": {
            "needs_background": "light"
          }
        }
      ]
    }
  ]
}