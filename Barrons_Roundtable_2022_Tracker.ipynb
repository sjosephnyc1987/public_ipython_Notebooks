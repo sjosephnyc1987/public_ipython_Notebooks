{
  "nbformat": 4,
  "nbformat_minor": 0,
  "metadata": {
    "colab": {
      "name": "Barrons Roundtable 2022 Tracker.ipynb",
      "provenance": [],
      "collapsed_sections": [],
      "authorship_tag": "ABX9TyOA8Rm+Aaj+n/+wclisGwu8",
      "include_colab_link": true
    },
    "kernelspec": {
      "name": "python3",
      "display_name": "Python 3"
    },
    "language_info": {
      "name": "python"
    }
  },
  "cells": [
    {
      "cell_type": "markdown",
      "metadata": {
        "id": "view-in-github",
        "colab_type": "text"
      },
      "source": [
        "<a href=\"https://colab.research.google.com/github/sjosephnyc1987/public_ipython_Notebooks/blob/main/Barrons_Roundtable_2022_Tracker.ipynb\" target=\"_parent\"><img src=\"https://colab.research.google.com/assets/colab-badge.svg\" alt=\"Open In Colab\"/></a>"
      ]
    },
    {
      "cell_type": "markdown",
      "source": [
        "# Barron's Roundtable 2022 Tracker\n",
        "\n",
        "How good are the stock picks of managers that appear in the Barron's Roundtable. We track the stock picks of 6 managers in the Januanry 2022 issue against a benchmark to see how their picks perform.\n",
        "\n",
        "You can see the roundtables [here](https://www.barrons.com/articles/roundtable-2022-stock-market-investing-opportunities-51642216617?mod=past_editions) and [here](https://www.barrons.com/articles/roundtable-2022-stock-market-investing-picks-51642816831?mod=past_editions)\n",
        "( paywall !! )\n",
        "\n",
        "The 6 managers (and their stock picks) we'll be tracking are \n",
        "1. Todd Ahlsten - (DE, FISV, MA, ADBE, AMAT, DHR)\n",
        "2. Sonal Desai - (CPREX, FHYVX, PAVE, GLFOX, EAPCX, SRLN, FRIAX, FEIFX)\n",
        "3. Mario Gabelli - (BATRA, MSGS, VIAC, CNHI, DAN, GPC, DRQ, HAL, TV)\n",
        "4. Henry Ellenbogen - (MSCI, JBHT, WRBY, MTN, SHOP)\n",
        "5. David Giroux - (GE, BDX, TMO, KDP, TEL, AMZN)\n",
        "6. Abby Joseph Cohen  - (FISV, PFE, ISRG, SIEGY, SEDG)\n",
        "\n",
        "\n",
        "Let's see who does best ?\n"
      ],
      "metadata": {
        "id": "Dq65QuRfO6Xr"
      }
    },
    {
      "cell_type": "code",
      "source": [
        "#imports\n",
        "import yfinance as yf\n",
        "import datetime\n",
        "import numpy as np\n",
        "import matplotlib.pyplot as plt\n",
        "from datetime import date"
      ],
      "metadata": {
        "id": "-2m_UHmnfflD"
      },
      "execution_count": null,
      "outputs": []
    },
    {
      "cell_type": "code",
      "source": [
        "#Part 2 of the article was published January 24th, so we start on the following Monday\n",
        "start = datetime.datetime(2022,1,25)\n",
        "end = date.today()\n"
      ],
      "metadata": {
        "id": "lkZMrXewfg61"
      },
      "execution_count": null,
      "outputs": []
    }
  ]
}