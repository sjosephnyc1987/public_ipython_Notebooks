{
  "nbformat": 4,
  "nbformat_minor": 0,
  "metadata": {
    "colab": {
      "name": "Barrons Roundtable 2022 Tracker.ipynb",
      "provenance": [],
      "collapsed_sections": [],
      "authorship_tag": "ABX9TyOKn+GYmLjZtF3yYcJGlnEB",
      "include_colab_link": true
    },
    "kernelspec": {
      "name": "python3",
      "display_name": "Python 3"
    },
    "language_info": {
      "name": "python"
    }
  },
  "cells": [
    {
      "cell_type": "markdown",
      "metadata": {
        "id": "view-in-github",
        "colab_type": "text"
      },
      "source": [
        "<a href=\"https://colab.research.google.com/github/sjosephnyc1987/public_ipython_Notebooks/blob/main/Barrons_Roundtable_2022_Tracker.ipynb\" target=\"_parent\"><img src=\"https://colab.research.google.com/assets/colab-badge.svg\" alt=\"Open In Colab\"/></a>"
      ]
    },
    {
      "cell_type": "markdown",
      "source": [
        "# Barron's Roundtable 2022 Tracker\n",
        "\n",
        "How good are the stock picks of managers that appear in the Barron's Roundtable. We track the stock picks of 6 managers in the Januanry 2022 issue against a benchmark to see how their picks perform.\n",
        "\n",
        "You can see the roundtables [here](https://www.barrons.com/articles/roundtable-2022-stock-market-investing-opportunities-51642216617?mod=past_editions) and [here](https://www.barrons.com/articles/roundtable-2022-stock-market-investing-picks-51642816831?mod=past_editions)\n",
        "( paywall !! )\n",
        "\n",
        "The 6 managers (and their stock picks) we'll be tracking are \n",
        "1. Todd Ahlsten - (DE, FISV, MA, ADBE, AMAT, DHR)\n",
        "2. Sonal Desai - (CPREX, FHYVX, PAVE, GLFOX, EAPCX, SRLN, FRIAX, FEIFX)\n",
        "3. Mario Gabelli - (BATRA, MSGS, VIAC, CNHI, DAN, GPC, DRQ, HAL, TV)\n",
        "4. Henry Ellenbogen - (MSCI, JBHT, WRBY, MTN, SHOP)\n",
        "5. David Giroux - (GE, BDX, TMO, KDP, TEL, AMZN)\n",
        "6. Abby Joseph Cohen  - (FISV\n",
        ", PFE, ISRG, SIEGY, SEDG)\n",
        "\n",
        "\n",
        "Let's see who does best ?\n"
      ],
      "metadata": {
        "id": "Dq65QuRfO6Xr"
      }
    },
    {
      "cell_type": "code",
      "source": [
        "#imports\n",
        "import yfinance as yf\n",
        "import datetime\n",
        "import numpy as np\n",
        "import matplotlib.pyplot as plt\n",
        "from datetime import date\n",
        "\n"
      ],
      "metadata": {
        "id": "-2m_UHmnfflD"
      },
      "execution_count": null,
      "outputs": []
    },
    {
      "cell_type": "code",
      "source": [
        "#Part 2 of the article was published January 24th, so we start on the following Monday\n",
        "start = datetime.datetime(2022,1,25)\n",
        "end = date.today()\n"
      ],
      "metadata": {
        "id": "lkZMrXewfg61"
      },
      "execution_count": 3,
      "outputs": []
    },
    {
      "cell_type": "markdown",
      "source": [
        "We define each of the manager portfolio's based on the article. We also create a corresponding portfolio remark variable, which we use in various places like the graph legend"
      ],
      "metadata": {
        "id": "VPVq2uiOig28"
      }
    },
    {
      "cell_type": "code",
      "source": [
        "#Manager Portfolios\n",
        "portfolio1 = ['DE','FISV','MA','ADBE','AMAT','DHR']  \n",
        "portfolio1_remark= \"Todd Ahlsten\"\n",
        "\n",
        "portfolio2 = ['CPREX','FHYVX','PAVE','GLFOX','EAPCX','SRLN','FRIAX','FEIFX']\n",
        "portfolio2_remark= \"Sonal Desai\"\n",
        "\n",
        "portfolio3 = ['BATRA','MSGS','VIAC','CNHI','DAN','GPC','DRQ','HAL','TV']\n",
        "portfolio3_remark= \"Mario Gabelli\"\n",
        "\n",
        "portfolio4 = ['GE','BDX','TMO','KDP','TEL','AMZN']\n",
        "portfolio4_remark= \"David  Giroux\"\n",
        "\n",
        "portfolio5 = ['FISV','PFE','ISRG','SIEGY','SEDG']\n",
        "portfolio5_remark= \"Abby Joseph Cohen\"\n",
        "\n",
        "#Benchmark\n",
        "Benchmark=['SPY']\n",
        "Benchmark_remark = \"Benchmark - SPY\""
      ],
      "metadata": {
        "id": "2lLh6ltSi_K9"
      },
      "execution_count": 4,
      "outputs": []
    },
    {
      "cell_type": "code",
      "source": [
        "#Get Stock prices from yahoo finance and hold it in a dataframe\n",
        "portfolio_df_1 = yf.download(portfolio1,start=start,end=end)['Adj Close']\n",
        "portfolio_df_2 = yf.download(portfolio2,start=start,end=end)['Adj Close']\n",
        "portfolio_df_3 = yf.download(portfolio3,start=start,end=end)['Adj Close']\n",
        "portfolio_df_4 = yf.download(portfolio4,start=start,end=end)['Adj Close']\n",
        "portfolio_df_5 = yf.download(portfolio5,start=start,end=end)['Adj Close']\n",
        "\n",
        "#let's spot check one of the dataframes\n",
        "print(portfolio_df_3.head())"
      ],
      "metadata": {
        "colab": {
          "base_uri": "https://localhost:8080/"
        },
        "id": "nGjqWRC7jEHV",
        "outputId": "e524fdd9-a5ef-4fcf-bde4-aa13e8c01e2d"
      },
      "execution_count": 5,
      "outputs": [
        {
          "output_type": "stream",
          "name": "stdout",
          "text": [
            "[*********************100%***********************]  6 of 6 completed\n",
            "[*********************100%***********************]  8 of 8 completed\n",
            "[*********************100%***********************]  9 of 9 completed\n",
            "[*********************100%***********************]  6 of 6 completed\n",
            "[*********************100%***********************]  5 of 5 completed\n",
            "                BATRA   CNHI        DAN        DRQ         GPC        HAL  \\\n",
            "Date                                                                        \n",
            "2022-01-25  26.605742  14.86  22.196890  26.639999  130.716705  30.480522   \n",
            "2022-01-26  26.368013  15.19  22.097441  25.950001  131.084061  30.689770   \n",
            "2022-01-27  26.278864  14.98  21.351578  25.570000  128.959396  30.719662   \n",
            "2022-01-28  26.932617  14.98  20.555990  25.530001  129.396240  31.247766   \n",
            "2022-01-31  27.784475  15.13  21.540529  25.290001  132.275452  30.629984   \n",
            "\n",
            "                  MSGS     TV       VIAC  \n",
            "Date                                      \n",
            "2022-01-25  163.139999   9.56  32.618233  \n",
            "2022-01-26  161.779999   9.54  31.436989  \n",
            "2022-01-27  159.580002   9.73  31.178902  \n",
            "2022-01-28  161.330002   9.61  32.727425  \n",
            "2022-01-31  166.070007  10.23  33.203892  \n"
          ]
        }
      ]
    }
  ]
}