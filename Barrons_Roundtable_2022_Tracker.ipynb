{
  "nbformat": 4,
  "nbformat_minor": 0,
  "metadata": {
    "colab": {
      "name": "Barrons Roundtable 2022 Tracker.ipynb",
      "provenance": [],
      "collapsed_sections": [],
      "authorship_tag": "ABX9TyOvGTaimUWNCIPnAIHs2Syz"
    },
    "kernelspec": {
      "name": "python3",
      "display_name": "Python 3"
    },
    "language_info": {
      "name": "python"
    }
  },
  "cells": [
    {
      "cell_type": "markdown",
      "source": [
        "# Barron's Roundtable 2022 Tracker\n",
        "\n",
        "How good are the stock picks of managers that appear in the Barron's Roundtable. We track the stock picks of 6 managers in the Januanry 2022 issue against a benchmark to see how their picks perform.\n",
        "\n",
        "You can see the roundtables [here](https://www.barrons.com/articles/roundtable-2022-stock-market-investing-opportunities-51642216617?mod=past_editions) and [here](https://www.barrons.com/articles/roundtable-2022-stock-market-investing-picks-51642816831?mod=past_editions)\n",
        "( paywall !! )\n",
        "\n",
        "The 6 managers (and their stocl picks) we'll be tracking are\n",
        "1. Todd Ahlsten - (DE, FISV, MA, ADBE, AMAT, DHR)\n",
        "2. Sonal Desai - (CPREX, FHYVX, PAVE, GLFOX, EAPCX, SRLN, FRIAX, FEIFX)\n",
        "3. Mario Gabelli - (BATRA, MSGS, VIAC, CNHI, DAN, GPC, DRQ, HAL, TV)\n",
        "4. Henry Ellenbogen - (MSCI, JBHT, WRBY, MTN, SHOP)\n",
        "5. David Giroux - (\n",
        "6. Abby Joseph Cohen \n",
        "\n",
        "\n"
      ],
      "metadata": {
        "id": "Dq65QuRfO6Xr"
      }
    },
    {
      "cell_type": "markdown",
      "source": [
        ""
      ],
      "metadata": {
        "id": "NPGVMzQLPDpV"
      }
    }
  ]
}