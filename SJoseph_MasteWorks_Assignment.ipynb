{
  "nbformat": 4,
  "nbformat_minor": 0,
  "metadata": {
    "colab": {
      "provenance": [],
      "collapsed_sections": [],
      "authorship_tag": "ABX9TyPkHesB8qQA48AqZWb2WYyS",
      "include_colab_link": true
    },
    "kernelspec": {
      "name": "python3",
      "display_name": "Python 3"
    },
    "language_info": {
      "name": "python"
    }
  },
  "cells": [
    {
      "cell_type": "markdown",
      "metadata": {
        "id": "view-in-github",
        "colab_type": "text"
      },
      "source": [
        "<a href=\"https://colab.research.google.com/github/sjosephnyc1987/public_ipython_Notebooks/blob/main/SJoseph_MasteWorks_Assignment.ipynb\" target=\"_parent\"><img src=\"https://colab.research.google.com/assets/colab-badge.svg\" alt=\"Open In Colab\"/></a>"
      ]
    },
    {
      "cell_type": "markdown",
      "source": [
        "Assignment - The team is interested in understanding the following:\n",
        "\n",
        "1.\tUsing Price divided by Low Estimate (called the PLE ratio) as a metric of beating expectations, what is the relationship between that and the dollar value of the low estimate?\n",
        "2.\tIs the PLE ratio correlated with the order that a lot is auctioned? Do earlier lots perform better than those that come later?\n"
      ],
      "metadata": {
        "id": "iSoTLcY0BqHB"
      }
    },
    {
      "cell_type": "code",
      "source": [
        "!pip install requests"
      ],
      "metadata": {
        "id": "a4p4AKSyEYAL"
      },
      "execution_count": null,
      "outputs": []
    },
    {
      "cell_type": "code",
      "execution_count": null,
      "metadata": {
        "id": "b0_-pqiuvXrb"
      },
      "outputs": [],
      "source": [
        "#imports\n",
        "from pandas import read_csv\n",
        "import pandas as pd\n",
        "import matplotlib.pyplot as plt\n",
        "import numpy as np\n",
        "import seaborn as sns\n",
        "\n",
        "#for non-linear regression\n",
        "from sklearn.linear_model import LinearRegression\n",
        "from scipy.optimize import curve_fit\n",
        "\n",
        "#reading in the date as a CSV file into Pandas dataFrame\n",
        "url = 'https://raw.githubusercontent.com/sjosephnyc1987/datasets/main/StephenJoseph-case_study_vp_analytics.csv'\n",
        "df = read_csv(url)\n"
      ]
    },
    {
      "cell_type": "code",
      "source": [
        "#importing a custom non-linear regression library i wrote\n",
        "#see more here https://github.com/sjosephnyc1987/funcspinner\n",
        "\n",
        "import requests\n",
        "# Save datagenerators as file to colab working directory\n",
        "# If you are using GitHub, make sure you get the \"Raw\" version of the code\n",
        "cust_url = 'https://raw.githubusercontent.com/sjosephnyc1987/funcspinner/main/funcspinner.py'\n",
        "r = requests.get(cust_url)\n",
        "\n",
        "# make sure your filename is the same as how you want to import \n",
        "with open('funcspinner.py', 'w') as f:\n",
        "    f.write(r.text)\n",
        "\n",
        "# now we can import\n",
        "import funcspinner "
      ],
      "metadata": {
        "id": "7GaH9xylEmr3"
      },
      "execution_count": null,
      "outputs": []
    },
    {
      "cell_type": "code",
      "source": [
        "#CLEAN-UP\n",
        "#lot_numbers are not labelled consistently and so we're cleaning that up\n",
        "\n",
        "old_list=[]\n",
        "new_list=[]\n",
        "\n",
        "for i in range(101,159):\n",
        "    old_list.append(i)\n",
        "    new_list.append(i-100)\n",
        "\n",
        "df['lot_number']= df['lot_number'].replace(old_list,new_list)\n"
      ],
      "metadata": {
        "id": "QhTRBgRzvpiB"
      },
      "execution_count": null,
      "outputs": []
    },
    {
      "cell_type": "code",
      "source": [
        "#let's see if our clean-up worked.\n",
        "df['lot_number'].describe()"
      ],
      "metadata": {
        "colab": {
          "base_uri": "https://localhost:8080/"
        },
        "id": "g0INjjEFv34y",
        "outputId": "495b1d90-1967-49fd-917e-6ce50a652dd0"
      },
      "execution_count": null,
      "outputs": [
        {
          "output_type": "execute_result",
          "data": {
            "text/plain": [
              "count    230.000000\n",
              "mean      25.226087\n",
              "std       15.368863\n",
              "min        1.000000\n",
              "25%       12.000000\n",
              "50%       24.000000\n",
              "75%       37.000000\n",
              "max       58.000000\n",
              "Name: lot_number, dtype: float64"
            ]
          },
          "metadata": {},
          "execution_count": 11
        }
      ]
    },
    {
      "cell_type": "code",
      "source": [
        "#Dropping NAs - there are some price fields that are empty and so we're going to drop them. But let's also make sure we're not dropping too much of that.\n",
        "print(\"length of df = \", len(df))\n",
        "print(\"length of dropped na_df = \", len(df.dropna()))\n",
        "df = df.dropna()\n",
        "print(\"new length of df = \", len(df))\n"
      ],
      "metadata": {
        "colab": {
          "base_uri": "https://localhost:8080/"
        },
        "id": "mgvenzKUw5M4",
        "outputId": "62fb99b5-730f-4f36-ef45-a78329c12cf9"
      },
      "execution_count": null,
      "outputs": [
        {
          "output_type": "stream",
          "name": "stdout",
          "text": [
            "length of df =  230\n",
            "length of dropped na_df =  215\n",
            "new length of df =  215\n"
          ]
        }
      ]
    },
    {
      "cell_type": "code",
      "source": [
        "#Next we Creatre the PLE column\n",
        "df['PLE'] = df['price_usd']/df['low_estimate_usd']\n",
        "df.describe()"
      ],
      "metadata": {
        "colab": {
          "base_uri": "https://localhost:8080/",
          "height": 278
        },
        "id": "_iBv9aSfDGx8",
        "outputId": "932d4f6b-12f0-41c5-bc9d-0dd87308dbff"
      },
      "execution_count": null,
      "outputs": [
        {
          "output_type": "execute_result",
          "data": {
            "text/plain": [
              "       lot_number     price_usd  low_estimate_usd  high_estimate_usd  \\\n",
              "count  215.000000  2.150000e+02      2.150000e+02       2.150000e+02   \n",
              "mean    24.730233  2.210768e+06      1.508808e+06       2.148423e+06   \n",
              "std     15.520314  6.698696e+06      4.878640e+06       6.658543e+06   \n",
              "min      1.000000  2.256500e+04      1.160500e+04       1.547300e+04   \n",
              "25%     11.500000  2.970450e+05      1.295950e+05       2.000000e+05   \n",
              "50%     23.000000  6.523820e+05      4.000000e+05       6.220580e+05   \n",
              "75%     37.000000  1.732067e+06      1.000000e+06       1.500000e+06   \n",
              "max     58.000000  8.455000e+07      6.000000e+07       8.000000e+07   \n",
              "\n",
              "              PLE  \n",
              "count  215.000000  \n",
              "mean     2.072129  \n",
              "std      2.430217  \n",
              "min      0.845000  \n",
              "25%      1.166580  \n",
              "50%      1.476944  \n",
              "75%      2.111752  \n",
              "max     30.333333  "
            ],
            "text/html": [
              "\n",
              "  <div id=\"df-39cb05be-d65d-4f75-a087-71d56f5c7943\">\n",
              "    <div class=\"colab-df-container\">\n",
              "      <div>\n",
              "<style scoped>\n",
              "    .dataframe tbody tr th:only-of-type {\n",
              "        vertical-align: middle;\n",
              "    }\n",
              "\n",
              "    .dataframe tbody tr th {\n",
              "        vertical-align: top;\n",
              "    }\n",
              "\n",
              "    .dataframe thead th {\n",
              "        text-align: right;\n",
              "    }\n",
              "</style>\n",
              "<table border=\"1\" class=\"dataframe\">\n",
              "  <thead>\n",
              "    <tr style=\"text-align: right;\">\n",
              "      <th></th>\n",
              "      <th>lot_number</th>\n",
              "      <th>price_usd</th>\n",
              "      <th>low_estimate_usd</th>\n",
              "      <th>high_estimate_usd</th>\n",
              "      <th>PLE</th>\n",
              "    </tr>\n",
              "  </thead>\n",
              "  <tbody>\n",
              "    <tr>\n",
              "      <th>count</th>\n",
              "      <td>215.000000</td>\n",
              "      <td>2.150000e+02</td>\n",
              "      <td>2.150000e+02</td>\n",
              "      <td>2.150000e+02</td>\n",
              "      <td>215.000000</td>\n",
              "    </tr>\n",
              "    <tr>\n",
              "      <th>mean</th>\n",
              "      <td>24.730233</td>\n",
              "      <td>2.210768e+06</td>\n",
              "      <td>1.508808e+06</td>\n",
              "      <td>2.148423e+06</td>\n",
              "      <td>2.072129</td>\n",
              "    </tr>\n",
              "    <tr>\n",
              "      <th>std</th>\n",
              "      <td>15.520314</td>\n",
              "      <td>6.698696e+06</td>\n",
              "      <td>4.878640e+06</td>\n",
              "      <td>6.658543e+06</td>\n",
              "      <td>2.430217</td>\n",
              "    </tr>\n",
              "    <tr>\n",
              "      <th>min</th>\n",
              "      <td>1.000000</td>\n",
              "      <td>2.256500e+04</td>\n",
              "      <td>1.160500e+04</td>\n",
              "      <td>1.547300e+04</td>\n",
              "      <td>0.845000</td>\n",
              "    </tr>\n",
              "    <tr>\n",
              "      <th>25%</th>\n",
              "      <td>11.500000</td>\n",
              "      <td>2.970450e+05</td>\n",
              "      <td>1.295950e+05</td>\n",
              "      <td>2.000000e+05</td>\n",
              "      <td>1.166580</td>\n",
              "    </tr>\n",
              "    <tr>\n",
              "      <th>50%</th>\n",
              "      <td>23.000000</td>\n",
              "      <td>6.523820e+05</td>\n",
              "      <td>4.000000e+05</td>\n",
              "      <td>6.220580e+05</td>\n",
              "      <td>1.476944</td>\n",
              "    </tr>\n",
              "    <tr>\n",
              "      <th>75%</th>\n",
              "      <td>37.000000</td>\n",
              "      <td>1.732067e+06</td>\n",
              "      <td>1.000000e+06</td>\n",
              "      <td>1.500000e+06</td>\n",
              "      <td>2.111752</td>\n",
              "    </tr>\n",
              "    <tr>\n",
              "      <th>max</th>\n",
              "      <td>58.000000</td>\n",
              "      <td>8.455000e+07</td>\n",
              "      <td>6.000000e+07</td>\n",
              "      <td>8.000000e+07</td>\n",
              "      <td>30.333333</td>\n",
              "    </tr>\n",
              "  </tbody>\n",
              "</table>\n",
              "</div>\n",
              "      <button class=\"colab-df-convert\" onclick=\"convertToInteractive('df-39cb05be-d65d-4f75-a087-71d56f5c7943')\"\n",
              "              title=\"Convert this dataframe to an interactive table.\"\n",
              "              style=\"display:none;\">\n",
              "        \n",
              "  <svg xmlns=\"http://www.w3.org/2000/svg\" height=\"24px\"viewBox=\"0 0 24 24\"\n",
              "       width=\"24px\">\n",
              "    <path d=\"M0 0h24v24H0V0z\" fill=\"none\"/>\n",
              "    <path d=\"M18.56 5.44l.94 2.06.94-2.06 2.06-.94-2.06-.94-.94-2.06-.94 2.06-2.06.94zm-11 1L8.5 8.5l.94-2.06 2.06-.94-2.06-.94L8.5 2.5l-.94 2.06-2.06.94zm10 10l.94 2.06.94-2.06 2.06-.94-2.06-.94-.94-2.06-.94 2.06-2.06.94z\"/><path d=\"M17.41 7.96l-1.37-1.37c-.4-.4-.92-.59-1.43-.59-.52 0-1.04.2-1.43.59L10.3 9.45l-7.72 7.72c-.78.78-.78 2.05 0 2.83L4 21.41c.39.39.9.59 1.41.59.51 0 1.02-.2 1.41-.59l7.78-7.78 2.81-2.81c.8-.78.8-2.07 0-2.86zM5.41 20L4 18.59l7.72-7.72 1.47 1.35L5.41 20z\"/>\n",
              "  </svg>\n",
              "      </button>\n",
              "      \n",
              "  <style>\n",
              "    .colab-df-container {\n",
              "      display:flex;\n",
              "      flex-wrap:wrap;\n",
              "      gap: 12px;\n",
              "    }\n",
              "\n",
              "    .colab-df-convert {\n",
              "      background-color: #E8F0FE;\n",
              "      border: none;\n",
              "      border-radius: 50%;\n",
              "      cursor: pointer;\n",
              "      display: none;\n",
              "      fill: #1967D2;\n",
              "      height: 32px;\n",
              "      padding: 0 0 0 0;\n",
              "      width: 32px;\n",
              "    }\n",
              "\n",
              "    .colab-df-convert:hover {\n",
              "      background-color: #E2EBFA;\n",
              "      box-shadow: 0px 1px 2px rgba(60, 64, 67, 0.3), 0px 1px 3px 1px rgba(60, 64, 67, 0.15);\n",
              "      fill: #174EA6;\n",
              "    }\n",
              "\n",
              "    [theme=dark] .colab-df-convert {\n",
              "      background-color: #3B4455;\n",
              "      fill: #D2E3FC;\n",
              "    }\n",
              "\n",
              "    [theme=dark] .colab-df-convert:hover {\n",
              "      background-color: #434B5C;\n",
              "      box-shadow: 0px 1px 3px 1px rgba(0, 0, 0, 0.15);\n",
              "      filter: drop-shadow(0px 1px 2px rgba(0, 0, 0, 0.3));\n",
              "      fill: #FFFFFF;\n",
              "    }\n",
              "  </style>\n",
              "\n",
              "      <script>\n",
              "        const buttonEl =\n",
              "          document.querySelector('#df-39cb05be-d65d-4f75-a087-71d56f5c7943 button.colab-df-convert');\n",
              "        buttonEl.style.display =\n",
              "          google.colab.kernel.accessAllowed ? 'block' : 'none';\n",
              "\n",
              "        async function convertToInteractive(key) {\n",
              "          const element = document.querySelector('#df-39cb05be-d65d-4f75-a087-71d56f5c7943');\n",
              "          const dataTable =\n",
              "            await google.colab.kernel.invokeFunction('convertToInteractive',\n",
              "                                                     [key], {});\n",
              "          if (!dataTable) return;\n",
              "\n",
              "          const docLinkHtml = 'Like what you see? Visit the ' +\n",
              "            '<a target=\"_blank\" href=https://colab.research.google.com/notebooks/data_table.ipynb>data table notebook</a>'\n",
              "            + ' to learn more about interactive tables.';\n",
              "          element.innerHTML = '';\n",
              "          dataTable['output_type'] = 'display_data';\n",
              "          await google.colab.output.renderOutput(dataTable, element);\n",
              "          const docLink = document.createElement('div');\n",
              "          docLink.innerHTML = docLinkHtml;\n",
              "          element.appendChild(docLink);\n",
              "        }\n",
              "      </script>\n",
              "    </div>\n",
              "  </div>\n",
              "  "
            ]
          },
          "metadata": {},
          "execution_count": 13
        }
      ]
    },
    {
      "cell_type": "code",
      "source": [
        "#Let's start off doing a simple regression from ScikitLearn\n",
        "\n",
        "X=np.array(df['PLE']).reshape((-1,1))\n",
        "y=np.array(df['low_estimate_usd'])\n",
        "\n",
        "model = LinearRegression().fit(X, y)\n",
        "r_sq = model.score(X, y)\n",
        "\n",
        "#Sci-kit learn does not give us Standard Error and so we have to calulate that ourselves.\n",
        "#First we calculate the residuals in order to get the standard error\n",
        "prediction = model.predict(X)\n",
        "residuals = (y - prediction)\n",
        "\n",
        "#then we calculate RMSE\n",
        "squaresumofresiduals = np.sum(residuals**2) \n",
        "std_error = np.sqrt(squaresumofresiduals/len(prediction))\n",
        "print(\"standard error manually calculated from scikit_learn = \", str(std_error))\n",
        "\n",
        "#regression coeffiecents\n",
        "print('coefficient of determination R-sq:', r_sq)\n",
        "print('intercept:', model.intercept_)\n",
        "print('slope:', model.coef_)\n"
      ],
      "metadata": {
        "colab": {
          "base_uri": "https://localhost:8080/"
        },
        "id": "TD38n0mcwZhW",
        "outputId": "ab2d9010-081d-4eed-821e-bdf23a703850"
      },
      "execution_count": null,
      "outputs": [
        {
          "output_type": "stream",
          "name": "stdout",
          "text": [
            "standard error manually calculated from scikit_learn =  4852606.3201466985\n",
            "coefficient of determination R-sq: 0.006020694572487328\n",
            "intercept: 1831578.2807378164\n",
            "slope: [-155767.52066177]\n"
          ]
        }
      ]
    },
    {
      "cell_type": "markdown",
      "source": [
        "-------come back to this ---------------"
      ],
      "metadata": {
        "id": "K-q-cUT2Go_1"
      }
    },
    {
      "cell_type": "code",
      "source": [
        "#plotting'\n",
        "fig, ax = plt.subplots(figsize=(18,8))\n",
        "ax.scatter(X, y)\n",
        "ax.set_xlim(1, 5)\n",
        "ax.set_ylim(0, 3000000);\n",
        "ax.set_xlabel(\"PLE\")\n",
        "ax.set_ylabel(\"low_estimate_usd\")\n",
        "\n",
        "plt.plot(X, model.predict(X),color='r')\n",
        "\n",
        "#plt.scatter(y, X, color='r')\n",
        "#plt.plot(y, X, color='r')"
      ],
      "metadata": {
        "colab": {
          "base_uri": "https://localhost:8080/",
          "height": 525
        },
        "id": "r0cg0eYjGBEd",
        "outputId": "27b960e0-557f-44ae-8bce-a6d6d3154d20"
      },
      "execution_count": 23,
      "outputs": [
        {
          "output_type": "execute_result",
          "data": {
            "text/plain": [
              "[<matplotlib.lines.Line2D at 0x7f9cacdfab10>]"
            ]
          },
          "metadata": {},
          "execution_count": 23
        },
        {
          "output_type": "display_data",
          "data": {
            "text/plain": [
              "<Figure size 1296x576 with 1 Axes>"
            ],
            "image/png": "[encoded data removed]"
          },
          "metadata": {
            "needs_background": "light"
          }
        }
      ]
    },
    {
      "cell_type": "code",
      "source": [
        "#Let's verify this using statmodels\n",
        "print(\"\\n-------------using statsmodels--------------\")\n",
        "\n",
        "import statsmodels.api as sm\n",
        "\n",
        "#getting some nwew varibles \n",
        "xx = df['PLE']\n",
        "yy = df['low_estimate_usd']\n",
        "\n",
        "h = np.array(xx)\n",
        "w = np.array(yy)\n",
        "\n",
        "#to make statsmodels work, you have to add a constant to X\n",
        "h = sm.add_constant(h)\n",
        "\n",
        "model2 = sm.OLS(w, h) #note that the x and y are inverted here.\n",
        "results2 = model2.fit()\n",
        "print(results2.summary())\n",
        "\n",
        "std_error_model = np.sqrt(results2.scale)\n",
        "print(\"standard error from stats_models = \", std_error_model)\n"
      ],
      "metadata": {
        "id": "PfLwfy8uzUBv",
        "colab": {
          "base_uri": "https://localhost:8080/"
        },
        "outputId": "a654c44f-92ed-4c0d-fbe4-a5f14a9fa76c"
      },
      "execution_count": 25,
      "outputs": [
        {
          "output_type": "stream",
          "name": "stdout",
          "text": [
            "\n",
            "-------------using statsmodels--------------\n",
            "                            OLS Regression Results                            \n",
            "==============================================================================\n",
            "Dep. Variable:                      y   R-squared:                       0.006\n",
            "Model:                            OLS   Adj. R-squared:                  0.001\n",
            "Method:                 Least Squares   F-statistic:                     1.290\n",
            "Date:                Sat, 24 Sep 2022   Prob (F-statistic):              0.257\n",
            "Time:                        06:14:13   Log-Likelihood:                -3615.0\n",
            "No. Observations:                 215   AIC:                             7234.\n",
            "Df Residuals:                     213   BIC:                             7241.\n",
            "Df Model:                           1                                         \n",
            "Covariance Type:            nonrobust                                         \n",
            "==============================================================================\n",
            "                 coef    std err          t      P>|t|      [0.025      0.975]\n",
            "------------------------------------------------------------------------------\n",
            "const       1.832e+06   4.37e+05      4.188      0.000    9.69e+05    2.69e+06\n",
            "x1         -1.558e+05   1.37e+05     -1.136      0.257   -4.26e+05    1.15e+05\n",
            "==============================================================================\n",
            "Omnibus:                      375.128   Durbin-Watson:                   1.824\n",
            "Prob(Omnibus):                  0.000   Jarque-Bera (JB):            89401.710\n",
            "Skew:                           9.028   Prob(JB):                         0.00\n",
            "Kurtosis:                     101.253   Cond. No.                         4.38\n",
            "==============================================================================\n",
            "\n",
            "Notes:\n",
            "[1] Standard Errors assume that the covariance matrix of the errors is correctly specified.\n",
            "standard error from stats_models =  4875335.279738336\n"
          ]
        }
      ]
    },
    {
      "cell_type": "code",
      "source": [
        "#correlation\n",
        "corr_matrix_inputs = df[['low_estimate_usd','PLE']]\n",
        "corr_matrix = corr_matrix_inputs.corr()\n",
        "\n",
        "sns.heatmap(data=corr_matrix, annot=True, cmap=\"spring_r\", linewidths=0.3, annot_kws={\"size\": 25}).set(title='1111')\n",
        "#Plot aesthetics\n",
        "plt.xticks(rotation=90)\n",
        "plt.yticks(rotation=0) \n",
        "plt.show()"
      ],
      "metadata": {
        "colab": {
          "base_uri": "https://localhost:8080/",
          "height": 360
        },
        "id": "w9BU7UWY5Zdk",
        "outputId": "85f558b8-170d-48ce-d51a-bfef8e0ed790"
      },
      "execution_count": null,
      "outputs": [
        {
          "output_type": "display_data",
          "data": {
            "text/plain": [
              "<Figure size 432x288 with 2 Axes>"
            ],
            "image/png": "[encoded data removed]"
          },
          "metadata": {
            "needs_background": "light"
          }
        }
      ]
    },
    {
      "cell_type": "code",
      "source": [
        "#Does lot_number mean anythign\n",
        "dfg = df.groupby(['lot_number']).mean()['PLE']\n",
        "#dfg.plot(kind='bar')\n",
        "\n",
        "fig2, ax2 = plt.subplots(figsize=(16,8))\n",
        "#dfg.bar(\n",
        "plt.bar(dfg.index, dfg, align='center', alpha=0.5)\n",
        "plt.xlabel('lot_number')\n",
        "plt.ylabel('PLE')\n",
        "plt.title('PLE vs lot_number')\n",
        "\n"
      ],
      "metadata": {
        "colab": {
          "base_uri": "https://localhost:8080/",
          "height": 531
        },
        "id": "-FD7Umib6YWR",
        "outputId": "bc575676-9fa0-48e8-b087-3655637d945d"
      },
      "execution_count": null,
      "outputs": [
        {
          "output_type": "execute_result",
          "data": {
            "text/plain": [
              "Text(0.5, 1.0, 'PLE vs lot_number')"
            ]
          },
          "metadata": {},
          "execution_count": 50
        },
        {
          "output_type": "display_data",
          "data": {
            "text/plain": [
              "<Figure size 1152x576 with 1 Axes>"
            ],
            "image/png": "[encoded data removed]"
          },
          "metadata": {
            "needs_background": "light"
          }
        }
      ]
    },
    {
      "cell_type": "markdown",
      "source": [
        "#Non-Linear Regression"
      ],
      "metadata": {
        "id": "OOVhpNPSIATg"
      }
    },
    {
      "cell_type": "code",
      "source": [
        "\n",
        "#--------cyclign through a bunch of functios for non-linear regression------\n",
        "\n",
        "list_of_functions = [\"simpleLinear\",\t\"quadratic\",\t\"cubic\",\t\"saturationGrowthRate\",\t\"simpleExponential\",\t\n",
        "                     \"simplePower\",\t\t\"michaelisMenten\",\t\"reciprocal\",\t\n",
        "                     \"bleasdaleNelder\",\t\"farazdagiHarris\",\t\"holliday\",\t\"exponential\",\t\"threeParameterLogistic\",\t\n",
        "                     \"gompertz\",\t\"weibull\",\t\t\n",
        "                     \"exponential1\",\t\"exponential2\",\t\"normal\",\t\"lognormal\",\t\"exponentialVariation\",\t\"michaelisMenten2\",\t\n",
        "                     \"michaelisMenten3\",\t\"linearLinear\",\t\"linearQuadratic\",\t\t\"quadraticQuadratic\",\t\"linear3\",\t\n",
        "                     \"gompertz2\",\t\"hill2\",\t\"sum3Exponentials\",\t\"gaussian\",]\n",
        "\n",
        "#removed \"polyRatio22\", \"polyRatio33\", \"polyRatio44\", \"richards\",\"logarithmic\",\"power\",\"sumexponentials\",\t\n",
        "#\"quadraticLinea\",\n",
        "\n",
        "results_matrix = pd.DataFrame(columns=['function_name', 'standard_error'])\n",
        "\n",
        "\n",
        "for functionname in list_of_functions:\n",
        "        \n",
        "    #get the function from the funcspinner class.\n",
        "    objective_function = funcspinner.function_return(functionname)\n",
        "    \n",
        "    #if we want to see what's in the function returned\n",
        "    import inspect\n",
        "    #print(inspect.getsource(objective_function))\n",
        "    \n",
        "    # do the actual curve fit\n",
        "    fit_paramsL, covariances = curve_fit(objective_function, xx, yy, maxfev=500000)\n",
        "    \n",
        "    \n",
        "    #print (\"Fitting curve using the\", functionname, \"function\")\n",
        "    #print (\"-----------------\")\n",
        "    #print('Parameter values: ')\n",
        "    \n",
        "    #for printing out the results.\n",
        "    coeffs = [\"a\",\"b\",\"c\",\"d\",\"e\",\"f\",\"g\",\"h\",\"i\",\"j\",\"k\"]\n",
        "    \n",
        "    i=0\n",
        "    for coeff in fit_paramsL:\n",
        "        #print(coeffs[i], \"=\" , coeff)\n",
        "        i = i+1\n",
        "    \n",
        "    \n",
        "    x_monotonic = np.arange(min(xx),max(xx),1)\n",
        "    y_fit = objective_function(x_monotonic,*fit_paramsL)\n",
        "    \n",
        "    \n",
        "    #to calulate the standard error\n",
        "    #---------------------------------\n",
        "    #x_expected = np.linspace(min(x),max(x),len(x))\n",
        "    \n",
        "    #you can get standard error of individual variables using np.sqrt(np.diag(covariances)) \n",
        "    \n",
        "    y_expected = objective_function(np.array(xx),*fit_paramsL)\n",
        "    \n",
        "    residuals = yy - y_expected\n",
        "    squaresumofresiduals = np.sum(residuals**2)\n",
        "    std_error = np.sqrt(squaresumofresiduals/len(y_expected))\n",
        "    print(\"standard error from the \",functionname , \"model = \" ,str(round(std_error,2)))\n",
        "    \n",
        "    results_matrix = results_matrix.append({'function_name':functionname , 'standard_error': str(round(std_error,2))}, ignore_index=True)\n",
        " \n"
      ],
      "metadata": {
        "colab": {
          "base_uri": "https://localhost:8080/"
        },
        "id": "O6Z4pEniH58J",
        "outputId": "a0c217f5-1764-4b61-cdcc-18ebbc5a7c19"
      },
      "execution_count": 28,
      "outputs": [
        {
          "output_type": "stream",
          "name": "stdout",
          "text": [
            "standard error from the  simpleLinear model =  4852606.32\n",
            "standard error from the  quadratic model =  4833368.98\n",
            "standard error from the  cubic model =  4826399.4\n",
            "standard error from the  saturationGrowthRate model =  4844968.63\n",
            "standard error from the  simpleExponential model =  4825649.11\n",
            "standard error from the  simplePower model =  4831337.19\n",
            "standard error from the  michaelisMenten model =  4844968.63\n",
            "standard error from the  reciprocal model =  5095495.84\n",
            "standard error from the  bleasdaleNelder model =  5095774.76\n",
            "standard error from the  farazdagiHarris model =  5095317.15\n",
            "standard error from the  holliday model =  5095499.98\n"
          ]
        },
        {
          "output_type": "stream",
          "name": "stderr",
          "text": [
            "/usr/local/lib/python3.7/dist-packages/scipy/optimize/minpack.py:834: OptimizeWarning: Covariance of the parameters could not be estimated\n",
            "  category=OptimizeWarning)\n"
          ]
        },
        {
          "output_type": "stream",
          "name": "stdout",
          "text": [
            "standard error from the  exponential model =  4867291.44\n",
            "standard error from the  threeParameterLogistic model =  4867280.65\n",
            "standard error from the  gompertz model =  4867280.65\n",
            "standard error from the  weibull model =  5095645.33\n"
          ]
        },
        {
          "output_type": "stream",
          "name": "stderr",
          "text": [
            "/usr/local/lib/python3.7/dist-packages/pandas/core/arraylike.py:364: RuntimeWarning: overflow encountered in exp\n",
            "  result = getattr(ufunc, method)(*inputs, **kwargs)\n"
          ]
        },
        {
          "output_type": "stream",
          "name": "stdout",
          "text": [
            "standard error from the  exponential1 model =  4800960.42\n",
            "standard error from the  exponential2 model =  4824983.49\n",
            "standard error from the  normal model =  4852715.1\n",
            "standard error from the  lognormal model =  4263934.38\n",
            "standard error from the  exponentialVariation model =  4825649.11\n",
            "standard error from the  michaelisMenten2 model =  4844968.63\n",
            "standard error from the  michaelisMenten3 model =  4844968.63\n",
            "standard error from the  linearLinear model =  4852606.32\n",
            "standard error from the  linearQuadratic model =  5013203.88\n",
            "standard error from the  quadraticQuadratic model =  4833368.98\n",
            "standard error from the  linear3 model =  4852606.32\n",
            "standard error from the  gompertz2 model =  4867280.65\n",
            "standard error from the  hill2 model =  5095774.71\n"
          ]
        },
        {
          "output_type": "stream",
          "name": "stderr",
          "text": [
            "/content/funcspinner.py:129: RuntimeWarning: invalid value encountered in double_scalars\n",
            "  def hill2(x,a,b,c): return (a*(x**c))/((b**c)+(x**c))\n"
          ]
        },
        {
          "output_type": "stream",
          "name": "stdout",
          "text": [
            "standard error from the  sum3Exponentials model =  4825649.11\n",
            "standard error from the  gaussian model =  4800647.54\n"
          ]
        }
      ]
    },
    {
      "cell_type": "code",
      "source": [
        "print(results_matrix.sort_values(by=['standard_error']))"
      ],
      "metadata": {
        "colab": {
          "base_uri": "https://localhost:8080/"
        },
        "id": "du_ziUVnJ2Io",
        "outputId": "ec161da0-47c1-4270-ae4a-3b8bab3e8a34"
      },
      "execution_count": 29,
      "outputs": [
        {
          "output_type": "stream",
          "name": "stdout",
          "text": [
            "             function_name standard_error\n",
            "18               lognormal     4263934.38\n",
            "29                gaussian     4800647.54\n",
            "15            exponential1     4800960.42\n",
            "16            exponential2     4824983.49\n",
            "4        simpleExponential     4825649.11\n",
            "19    exponentialVariation     4825649.11\n",
            "28        sum3Exponentials     4825649.11\n",
            "2                    cubic      4826399.4\n",
            "5              simplePower     4831337.19\n",
            "1                quadratic     4833368.98\n",
            "24      quadraticQuadratic     4833368.98\n",
            "6          michaelisMenten     4844968.63\n",
            "21        michaelisMenten3     4844968.63\n",
            "20        michaelisMenten2     4844968.63\n",
            "3     saturationGrowthRate     4844968.63\n",
            "25                 linear3     4852606.32\n",
            "22            linearLinear     4852606.32\n",
            "0             simpleLinear     4852606.32\n",
            "17                  normal      4852715.1\n",
            "13                gompertz     4867280.65\n",
            "12  threeParameterLogistic     4867280.65\n",
            "26               gompertz2     4867280.65\n",
            "11             exponential     4867291.44\n",
            "23         linearQuadratic     5013203.88\n",
            "9          farazdagiHarris     5095317.15\n",
            "7               reciprocal     5095495.84\n",
            "10                holliday     5095499.98\n",
            "14                 weibull     5095645.33\n",
            "27                   hill2     5095774.71\n",
            "8          bleasdaleNelder     5095774.76\n"
          ]
        }
      ]
    }
  ]
}