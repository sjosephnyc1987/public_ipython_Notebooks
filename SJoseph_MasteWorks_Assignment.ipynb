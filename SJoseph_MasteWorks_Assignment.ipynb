{
  "nbformat": 4,
  "nbformat_minor": 0,
  "metadata": {
    "colab": {
      "provenance": [],
      "collapsed_sections": [],
      "authorship_tag": "ABX9TyP+o94kMTQ0Qrm7H59fkHCE",
      "include_colab_link": true
    },
    "kernelspec": {
      "name": "python3",
      "display_name": "Python 3"
    },
    "language_info": {
      "name": "python"
    }
  },
  "cells": [
    {
      "cell_type": "markdown",
      "metadata": {
        "id": "view-in-github",
        "colab_type": "text"
      },
      "source": [
        "<a href=\"https://colab.research.google.com/github/sjosephnyc1987/public_ipython_Notebooks/blob/main/SJoseph_MasteWorks_Assignment.ipynb\" target=\"_parent\"><img src=\"https://colab.research.google.com/assets/colab-badge.svg\" alt=\"Open In Colab\"/></a>"
      ]
    },
    {
      "cell_type": "markdown",
      "source": [
        "**Assignment** - The team is interested in understanding the following:\n",
        "\n",
        "**1.** \tUsing Price divided by Low Estimate (called the PLE ratio) as a metric of beating expectations, what is the relationship between that and the dollar value of the low estimate?\n",
        "\n",
        "**2.**\tIs the PLE ratio correlated with the order that a lot is auctioned? Do earlier lots perform better than those that come later?\n"
      ],
      "metadata": {
        "id": "iSoTLcY0BqHB"
      }
    },
    {
      "cell_type": "markdown",
      "source": [
        "#Imports and Data pre-processing\n",
        "Real-world data typically contains noise, missing values, and may be in an unsuitable format, making it impossible to apply models directly on it. Data preprocessing is a necessary task for clearing the data and preparing it for machine learning models, which also improves the model's accuracy and effectiveness."
      ],
      "metadata": {
        "id": "EnVXgOeEVpvY"
      }
    },
    {
      "cell_type": "code",
      "source": [
        "!pip install requests"
      ],
      "metadata": {
        "id": "a4p4AKSyEYAL"
      },
      "execution_count": null,
      "outputs": []
    },
    {
      "cell_type": "code",
      "execution_count": null,
      "metadata": {
        "id": "b0_-pqiuvXrb"
      },
      "outputs": [],
      "source": [
        "#imports\n",
        "from pandas import read_csv\n",
        "import pandas as pd\n",
        "import matplotlib.pyplot as plt\n",
        "import numpy as np\n",
        "import seaborn as sns\n",
        "\n",
        "#for non-linear regression\n",
        "from sklearn.linear_model import LinearRegression\n",
        "from scipy.optimize import curve_fit\n",
        "\n",
        "#reading in the date as a CSV file into Pandas dataFrame\n",
        "url = 'https://raw.githubusercontent.com/sjosephnyc1987/datasets/main/StephenJoseph-case_study_vp_analytics.csv'\n",
        "df = read_csv(url)\n"
      ]
    },
    {
      "cell_type": "code",
      "source": [],
      "metadata": {
        "id": "PNQBbePOj4mt"
      },
      "execution_count": null,
      "outputs": []
    },
    {
      "cell_type": "code",
      "source": [
        "#importing a custom non-linear regression library i wrote\n",
        "#see more here https://github.com/sjosephnyc1987/funcspinner\n",
        "\n",
        "import requests\n",
        "cust_url = 'https://raw.githubusercontent.com/sjosephnyc1987/funcspinner/main/funcspinner.py'\n",
        "r = requests.get(cust_url)\n",
        "\n",
        "# make sure your filename is the same as how you want to import \n",
        "with open('funcspinner.py', 'w') as f:\n",
        "    f.write(r.text)\n",
        "\n",
        "# now we can import\n",
        "import funcspinner "
      ],
      "metadata": {
        "id": "7GaH9xylEmr3"
      },
      "execution_count": null,
      "outputs": []
    },
    {
      "cell_type": "code",
      "source": [
        "#Data Clean-up\n",
        "#lot_numbers are not labelled consistently and so we're cleaning that up\n",
        "\n",
        "old_list=[]\n",
        "new_list=[]\n",
        "\n",
        "for i in range(101,159):\n",
        "    old_list.append(i)\n",
        "    new_list.append(i-100)\n",
        "\n",
        "df['lot_number']= df['lot_number'].replace(old_list,new_list)\n"
      ],
      "metadata": {
        "id": "QhTRBgRzvpiB"
      },
      "execution_count": null,
      "outputs": []
    },
    {
      "cell_type": "code",
      "source": [
        "#let's see if our clean-up worked.\n",
        "df['lot_number'].describe()"
      ],
      "metadata": {
        "colab": {
          "base_uri": "https://localhost:8080/"
        },
        "id": "g0INjjEFv34y",
        "outputId": "3f04a00c-7ab6-4641-c8cf-f83016c5daef"
      },
      "execution_count": null,
      "outputs": [
        {
          "output_type": "execute_result",
          "data": {
            "text/plain": [
              "count    230.000000\n",
              "mean      25.226087\n",
              "std       15.368863\n",
              "min        1.000000\n",
              "25%       12.000000\n",
              "50%       24.000000\n",
              "75%       37.000000\n",
              "max       58.000000\n",
              "Name: lot_number, dtype: float64"
            ]
          },
          "metadata": {},
          "execution_count": 6
        }
      ]
    },
    {
      "cell_type": "code",
      "source": [
        "#Dropping rows with empty fields (NAs) - there are some price fields that are empty and so we're going to drop them. But let's also make sure we're not dropping too much of that.\n",
        "print(\"length of df = \", len(df))\n",
        "print(\"length of dropped na_df = \", len(df.dropna()))\n",
        "df = df.dropna()\n",
        "print(\"new length of df = \", len(df))\n"
      ],
      "metadata": {
        "colab": {
          "base_uri": "https://localhost:8080/"
        },
        "id": "mgvenzKUw5M4",
        "outputId": "be69799d-7401-439f-8e74-c6dc2294098c"
      },
      "execution_count": null,
      "outputs": [
        {
          "output_type": "stream",
          "name": "stdout",
          "text": [
            "length of df =  230\n",
            "length of dropped na_df =  215\n",
            "new length of df =  215\n"
          ]
        }
      ]
    },
    {
      "cell_type": "code",
      "source": [
        "#Next we Creatre the PLE column\n",
        "df['PLE'] = df['price_usd']/df['low_estimate_usd']\n",
        "\n",
        "#and look at the final dataframe before starting our analysis\n",
        "df.describe()"
      ],
      "metadata": {
        "colab": {
          "base_uri": "https://localhost:8080/",
          "height": 399
        },
        "id": "_iBv9aSfDGx8",
        "outputId": "bd344418-debf-4d56-dcf3-4ef455dbf357"
      },
      "execution_count": null,
      "outputs": [
        {
          "output_type": "stream",
          "name": "stderr",
          "text": [
            "/usr/local/lib/python3.7/dist-packages/ipykernel_launcher.py:2: SettingWithCopyWarning: \n",
            "A value is trying to be set on a copy of a slice from a DataFrame.\n",
            "Try using .loc[row_indexer,col_indexer] = value instead\n",
            "\n",
            "See the caveats in the documentation: https://pandas.pydata.org/pandas-docs/stable/user_guide/indexing.html#returning-a-view-versus-a-copy\n",
            "  \n"
          ]
        },
        {
          "output_type": "execute_result",
          "data": {
            "text/plain": [
              "       lot_number     price_usd  low_estimate_usd  high_estimate_usd  \\\n",
              "count  215.000000  2.150000e+02      2.150000e+02       2.150000e+02   \n",
              "mean    24.730233  2.210768e+06      1.508808e+06       2.148423e+06   \n",
              "std     15.520314  6.698696e+06      4.878640e+06       6.658543e+06   \n",
              "min      1.000000  2.256500e+04      1.160500e+04       1.547300e+04   \n",
              "25%     11.500000  2.970450e+05      1.295950e+05       2.000000e+05   \n",
              "50%     23.000000  6.523820e+05      4.000000e+05       6.220580e+05   \n",
              "75%     37.000000  1.732067e+06      1.000000e+06       1.500000e+06   \n",
              "max     58.000000  8.455000e+07      6.000000e+07       8.000000e+07   \n",
              "\n",
              "              PLE  \n",
              "count  215.000000  \n",
              "mean     2.072129  \n",
              "std      2.430217  \n",
              "min      0.845000  \n",
              "25%      1.166580  \n",
              "50%      1.476944  \n",
              "75%      2.111752  \n",
              "max     30.333333  "
            ],
            "text/html": [
              "\n",
              "  <div id=\"df-87ff25c6-6aec-4a5f-9b22-38949c696ae3\">\n",
              "    <div class=\"colab-df-container\">\n",
              "      <div>\n",
              "<style scoped>\n",
              "    .dataframe tbody tr th:only-of-type {\n",
              "        vertical-align: middle;\n",
              "    }\n",
              "\n",
              "    .dataframe tbody tr th {\n",
              "        vertical-align: top;\n",
              "    }\n",
              "\n",
              "    .dataframe thead th {\n",
              "        text-align: right;\n",
              "    }\n",
              "</style>\n",
              "<table border=\"1\" class=\"dataframe\">\n",
              "  <thead>\n",
              "    <tr style=\"text-align: right;\">\n",
              "      <th></th>\n",
              "      <th>lot_number</th>\n",
              "      <th>price_usd</th>\n",
              "      <th>low_estimate_usd</th>\n",
              "      <th>high_estimate_usd</th>\n",
              "      <th>PLE</th>\n",
              "    </tr>\n",
              "  </thead>\n",
              "  <tbody>\n",
              "    <tr>\n",
              "      <th>count</th>\n",
              "      <td>215.000000</td>\n",
              "      <td>2.150000e+02</td>\n",
              "      <td>2.150000e+02</td>\n",
              "      <td>2.150000e+02</td>\n",
              "      <td>215.000000</td>\n",
              "    </tr>\n",
              "    <tr>\n",
              "      <th>mean</th>\n",
              "      <td>24.730233</td>\n",
              "      <td>2.210768e+06</td>\n",
              "      <td>1.508808e+06</td>\n",
              "      <td>2.148423e+06</td>\n",
              "      <td>2.072129</td>\n",
              "    </tr>\n",
              "    <tr>\n",
              "      <th>std</th>\n",
              "      <td>15.520314</td>\n",
              "      <td>6.698696e+06</td>\n",
              "      <td>4.878640e+06</td>\n",
              "      <td>6.658543e+06</td>\n",
              "      <td>2.430217</td>\n",
              "    </tr>\n",
              "    <tr>\n",
              "      <th>min</th>\n",
              "      <td>1.000000</td>\n",
              "      <td>2.256500e+04</td>\n",
              "      <td>1.160500e+04</td>\n",
              "      <td>1.547300e+04</td>\n",
              "      <td>0.845000</td>\n",
              "    </tr>\n",
              "    <tr>\n",
              "      <th>25%</th>\n",
              "      <td>11.500000</td>\n",
              "      <td>2.970450e+05</td>\n",
              "      <td>1.295950e+05</td>\n",
              "      <td>2.000000e+05</td>\n",
              "      <td>1.166580</td>\n",
              "    </tr>\n",
              "    <tr>\n",
              "      <th>50%</th>\n",
              "      <td>23.000000</td>\n",
              "      <td>6.523820e+05</td>\n",
              "      <td>4.000000e+05</td>\n",
              "      <td>6.220580e+05</td>\n",
              "      <td>1.476944</td>\n",
              "    </tr>\n",
              "    <tr>\n",
              "      <th>75%</th>\n",
              "      <td>37.000000</td>\n",
              "      <td>1.732067e+06</td>\n",
              "      <td>1.000000e+06</td>\n",
              "      <td>1.500000e+06</td>\n",
              "      <td>2.111752</td>\n",
              "    </tr>\n",
              "    <tr>\n",
              "      <th>max</th>\n",
              "      <td>58.000000</td>\n",
              "      <td>8.455000e+07</td>\n",
              "      <td>6.000000e+07</td>\n",
              "      <td>8.000000e+07</td>\n",
              "      <td>30.333333</td>\n",
              "    </tr>\n",
              "  </tbody>\n",
              "</table>\n",
              "</div>\n",
              "      <button class=\"colab-df-convert\" onclick=\"convertToInteractive('df-87ff25c6-6aec-4a5f-9b22-38949c696ae3')\"\n",
              "              title=\"Convert this dataframe to an interactive table.\"\n",
              "              style=\"display:none;\">\n",
              "        \n",
              "  <svg xmlns=\"http://www.w3.org/2000/svg\" height=\"24px\"viewBox=\"0 0 24 24\"\n",
              "       width=\"24px\">\n",
              "    <path d=\"M0 0h24v24H0V0z\" fill=\"none\"/>\n",
              "    <path d=\"M18.56 5.44l.94 2.06.94-2.06 2.06-.94-2.06-.94-.94-2.06-.94 2.06-2.06.94zm-11 1L8.5 8.5l.94-2.06 2.06-.94-2.06-.94L8.5 2.5l-.94 2.06-2.06.94zm10 10l.94 2.06.94-2.06 2.06-.94-2.06-.94-.94-2.06-.94 2.06-2.06.94z\"/><path d=\"M17.41 7.96l-1.37-1.37c-.4-.4-.92-.59-1.43-.59-.52 0-1.04.2-1.43.59L10.3 9.45l-7.72 7.72c-.78.78-.78 2.05 0 2.83L4 21.41c.39.39.9.59 1.41.59.51 0 1.02-.2 1.41-.59l7.78-7.78 2.81-2.81c.8-.78.8-2.07 0-2.86zM5.41 20L4 18.59l7.72-7.72 1.47 1.35L5.41 20z\"/>\n",
              "  </svg>\n",
              "      </button>\n",
              "      \n",
              "  <style>\n",
              "    .colab-df-container {\n",
              "      display:flex;\n",
              "      flex-wrap:wrap;\n",
              "      gap: 12px;\n",
              "    }\n",
              "\n",
              "    .colab-df-convert {\n",
              "      background-color: #E8F0FE;\n",
              "      border: none;\n",
              "      border-radius: 50%;\n",
              "      cursor: pointer;\n",
              "      display: none;\n",
              "      fill: #1967D2;\n",
              "      height: 32px;\n",
              "      padding: 0 0 0 0;\n",
              "      width: 32px;\n",
              "    }\n",
              "\n",
              "    .colab-df-convert:hover {\n",
              "      background-color: #E2EBFA;\n",
              "      box-shadow: 0px 1px 2px rgba(60, 64, 67, 0.3), 0px 1px 3px 1px rgba(60, 64, 67, 0.15);\n",
              "      fill: #174EA6;\n",
              "    }\n",
              "\n",
              "    [theme=dark] .colab-df-convert {\n",
              "      background-color: #3B4455;\n",
              "      fill: #D2E3FC;\n",
              "    }\n",
              "\n",
              "    [theme=dark] .colab-df-convert:hover {\n",
              "      background-color: #434B5C;\n",
              "      box-shadow: 0px 1px 3px 1px rgba(0, 0, 0, 0.15);\n",
              "      filter: drop-shadow(0px 1px 2px rgba(0, 0, 0, 0.3));\n",
              "      fill: #FFFFFF;\n",
              "    }\n",
              "  </style>\n",
              "\n",
              "      <script>\n",
              "        const buttonEl =\n",
              "          document.querySelector('#df-87ff25c6-6aec-4a5f-9b22-38949c696ae3 button.colab-df-convert');\n",
              "        buttonEl.style.display =\n",
              "          google.colab.kernel.accessAllowed ? 'block' : 'none';\n",
              "\n",
              "        async function convertToInteractive(key) {\n",
              "          const element = document.querySelector('#df-87ff25c6-6aec-4a5f-9b22-38949c696ae3');\n",
              "          const dataTable =\n",
              "            await google.colab.kernel.invokeFunction('convertToInteractive',\n",
              "                                                     [key], {});\n",
              "          if (!dataTable) return;\n",
              "\n",
              "          const docLinkHtml = 'Like what you see? Visit the ' +\n",
              "            '<a target=\"_blank\" href=https://colab.research.google.com/notebooks/data_table.ipynb>data table notebook</a>'\n",
              "            + ' to learn more about interactive tables.';\n",
              "          element.innerHTML = '';\n",
              "          dataTable['output_type'] = 'display_data';\n",
              "          await google.colab.output.renderOutput(dataTable, element);\n",
              "          const docLink = document.createElement('div');\n",
              "          docLink.innerHTML = docLinkHtml;\n",
              "          element.appendChild(docLink);\n",
              "        }\n",
              "      </script>\n",
              "    </div>\n",
              "  </div>\n",
              "  "
            ]
          },
          "metadata": {},
          "execution_count": 8
        }
      ]
    },
    {
      "cell_type": "markdown",
      "source": [
        "#Model Selection\n",
        "We need to decide what model to use for the task at hand. While, this is not a classification problem, neither is it a clusering or time-series problem. Furthermore, I imagine, the model will require a high degree of exlpainability and since both of our variables (PLE & Low Estimate) are continueous, we are left with Regression, Descision Trees and Random Forests as possible choices.\n",
        "\n",
        "Random forests have problem with predicting out-of-sample data and so don't seem very useful here, they also hard to explain to a general audience and so we need look at the other choices. Descison-tree regression is more useful in predicting the outcome, rather than describing the relationship between the two variables and so that leaves us with Regression, (both linear and non-linear).\n",
        "\n",
        "**Regression** has been around for a while, is well studied for many edge-cases, easy to understand and perfectly suited to suited the relationship between two continueous variables. Our model of choice is thus Regression.\n",
        "\n",
        "\n"
      ],
      "metadata": {
        "id": "r3HN0iuLVu2c"
      }
    },
    {
      "cell_type": "code",
      "source": [
        "#Let's start off doing a simple regression from ScikitLearn\n",
        "\n",
        "X=np.array(df['PLE']).reshape((-1,1))\n",
        "y=np.array(df['low_estimate_usd'])\n",
        "\n",
        "model = LinearRegression().fit(X, y)\n",
        "r_sq = model.score(X, y)\n",
        "\n",
        "#Sci-kit learn does not give us Standard Error and so we have to calulate that ourselves.\n",
        "#First we calculate the residuals in order to get the standard error\n",
        "prediction = model.predict(X)\n",
        "residuals = (y - prediction)\n",
        "\n",
        "#then we calculate RMSE\n",
        "squaresumofresiduals = np.sum(residuals**2) \n",
        "std_error = np.sqrt(squaresumofresiduals/len(prediction))\n",
        "print(\"standard error manually calculated from scikit_learn = \", str(std_error))\n",
        "\n",
        "#regression coeffiecents\n",
        "print('coefficient of determination R-sq:', r_sq)\n",
        "print('intercept:', model.intercept_)\n",
        "print('slope:', model.coef_)\n"
      ],
      "metadata": {
        "colab": {
          "base_uri": "https://localhost:8080/"
        },
        "id": "TD38n0mcwZhW",
        "outputId": "e39b022e-9693-4e73-e7a6-94ef101ea3e9"
      },
      "execution_count": null,
      "outputs": [
        {
          "output_type": "stream",
          "name": "stdout",
          "text": [
            "standard error manually calculated from scikit_learn =  4852606.3201466985\n",
            "coefficient of determination R-sq: 0.006020694572487328\n",
            "intercept: 1831578.2807378164\n",
            "slope: [-155767.52066177]\n"
          ]
        }
      ]
    },
    {
      "cell_type": "markdown",
      "source": [
        "### Interpreting Results\n",
        "**R-Squared** tells us how well the regression model fits the data (R-Squared is between 0 & 100%). \n",
        "\n",
        "*The the R-square here is pretty low but that does not tell us the complete story, we need to look at RMSE and p-value as well.*\n",
        "\n",
        "**RMSE** is the square root of the variance of the residuals. It is the standard deviation of the residuals (prediction errors). It is a measure of how spread out these residuals are. In other words, it tells you how concentrated the data is around the line of best fit.\n",
        "\n",
        "*RMSE has the same unit as the dependent variable (DV). It means that there is no absolute good or bad threshold, however you can define it based on your DV.\n",
        "\n",
        "(For a data which ranges from 0 to 1000, an RMSE of 0.7 is small, but if the range goes from 0 to 1, it is not that small anymore. However, although the smaller the RMSE, the better)\n",
        "\n",
        "*The RMSE here is \"off the charts\" and so the model is **not** all that good at predicting*\n",
        "\n",
        "Next let's look at the results visually and then let's look at the p-value\n"
      ],
      "metadata": {
        "id": "K-q-cUT2Go_1"
      }
    },
    {
      "cell_type": "code",
      "source": [
        "#plotting PLE vs the low-estimate as a scatter plot (blue)\n",
        "fig, ax = plt.subplots(figsize=(18,8))\n",
        "ax.scatter(X, y)\n",
        "ax.set_xlim(1, 5)\n",
        "ax.set_ylim(0, 3000000);\n",
        "ax.set_xlabel(\"PLE\",fontsize=18)\n",
        "ax.set_ylabel(\"low_estimate_usd\",fontsize=18)\n",
        "\n",
        "#plotting the regression line in red\n",
        "plt.plot(X, model.predict(X),color='r')\n",
        "plt.title(\"PLE vs low_estimate_usd\", fontsize=30)\n",
        "\n",
        "#plt.scatter(y, X, color='r')\n",
        "#plt.plot(y, X, color='r')"
      ],
      "metadata": {
        "colab": {
          "base_uri": "https://localhost:8080/",
          "height": 552
        },
        "id": "r0cg0eYjGBEd",
        "outputId": "28449d6e-36c7-4263-de3d-3f4826a091ce"
      },
      "execution_count": null,
      "outputs": [
        {
          "output_type": "execute_result",
          "data": {
            "text/plain": [
              "Text(0.5, 1.0, 'PLE vs low_estimate_usd')"
            ]
          },
          "metadata": {},
          "execution_count": 10
        },
        {
          "output_type": "display_data",
          "data": {
            "text/plain": [
              "<Figure size 1296x576 with 1 Axes>"
            ],
            "image/png": "[encoded data removed]"
          },
          "metadata": {
            "needs_background": "light"
          }
        }
      ]
    },
    {
      "cell_type": "markdown",
      "source": [
        "Its clear from the picture above that the line is slightly negatively sloped and that there's not paricularly a good fit (which is also what we gather from the RMSE)\n",
        "\n",
        "Next let's look at the p-values of the variables. This is much easier done in statsmodels. We'll also use statsmodel to verify the results we get in scikit-learn."
      ],
      "metadata": {
        "id": "UUff_DDWbWOK"
      }
    },
    {
      "cell_type": "code",
      "source": [
        "#Let's verify this using statmodels\n",
        "print(\"\\n-------------using statsmodels--------------\")\n",
        "\n",
        "import statsmodels.api as sm\n",
        "\n",
        "#getting some nwew varibles \n",
        "xx = df['PLE']\n",
        "yy = df['low_estimate_usd']\n",
        "\n",
        "h = np.array(xx)\n",
        "w = np.array(yy)\n",
        "\n",
        "#to make statsmodels work, you have to add a constant to X\n",
        "h = sm.add_constant(h)\n",
        "\n",
        "model2 = sm.OLS(w, h) #note that the x and y are inverted here.\n",
        "results2 = model2.fit()\n",
        "print(results2.summary())\n",
        "\n",
        "std_error_model = np.sqrt(results2.scale)\n",
        "print(\"standard error from stats_models = \", std_error_model)\n"
      ],
      "metadata": {
        "id": "PfLwfy8uzUBv",
        "colab": {
          "base_uri": "https://localhost:8080/"
        },
        "outputId": "3124784f-d589-4b79-b408-cec05e0a4aa9"
      },
      "execution_count": null,
      "outputs": [
        {
          "output_type": "stream",
          "name": "stdout",
          "text": [
            "\n",
            "-------------using statsmodels--------------\n",
            "                            OLS Regression Results                            \n",
            "==============================================================================\n",
            "Dep. Variable:                      y   R-squared:                       0.006\n",
            "Model:                            OLS   Adj. R-squared:                  0.001\n",
            "Method:                 Least Squares   F-statistic:                     1.290\n",
            "Date:                Sun, 25 Sep 2022   Prob (F-statistic):              0.257\n",
            "Time:                        03:17:01   Log-Likelihood:                -3615.0\n",
            "No. Observations:                 215   AIC:                             7234.\n",
            "Df Residuals:                     213   BIC:                             7241.\n",
            "Df Model:                           1                                         \n",
            "Covariance Type:            nonrobust                                         \n",
            "==============================================================================\n",
            "                 coef    std err          t      P>|t|      [0.025      0.975]\n",
            "------------------------------------------------------------------------------\n",
            "const       1.832e+06   4.37e+05      4.188      0.000    9.69e+05    2.69e+06\n",
            "x1         -1.558e+05   1.37e+05     -1.136      0.257   -4.26e+05    1.15e+05\n",
            "==============================================================================\n",
            "Omnibus:                      375.128   Durbin-Watson:                   1.824\n",
            "Prob(Omnibus):                  0.000   Jarque-Bera (JB):            89401.710\n",
            "Skew:                           9.028   Prob(JB):                         0.00\n",
            "Kurtosis:                     101.253   Cond. No.                         4.38\n",
            "==============================================================================\n",
            "\n",
            "Notes:\n",
            "[1] Standard Errors assume that the covariance matrix of the errors is correctly specified.\n",
            "standard error from stats_models =  4875335.279738336\n"
          ]
        }
      ]
    },
    {
      "cell_type": "markdown",
      "source": [
        "R-Squared and RMSE are same as scikit-learn, so we've re-verified that. *p-value (or probability value), is a number describing how likely it is that your data would have occurred by random chance (i.e. that the null hypothesis is true). The p-value is the evidence against a null hypothesis.\n",
        "\n",
        "You get a p-value for each variable that you compare against the Significance levels.\n",
        "\n",
        "*our p-value here is 0.257 which is pretty high and so our x variable is pretty random, and so we reject the null-hypothesis*\n"
      ],
      "metadata": {
        "id": "6tIzc6c-b_q1"
      }
    },
    {
      "cell_type": "markdown",
      "source": [
        "## Correlation\n",
        "Regression is an advanced form of pearson-correlation and so doing a correlation study between the two variables is not going to be \"more\" insightful. However, correlation is pretty easy to perform in pandas and so we run a standard correlation between the two dimensions to see if it supports our regression conclusions."
      ],
      "metadata": {
        "id": "ImTEB9Dtc2Gb"
      }
    },
    {
      "cell_type": "code",
      "source": [
        "#correlation\n",
        "corr_matrix_inputs = df[['low_estimate_usd','PLE']]\n",
        "corr_matrix = corr_matrix_inputs.corr()\n",
        "\n",
        "sns.heatmap(data=corr_matrix, annot=True, cmap=\"spring_r\", linewidths=0.3, annot_kws={\"size\": 25}).set(title='1111')\n",
        "#Plot aesthetics\n",
        "plt.xticks(rotation=90)\n",
        "plt.yticks(rotation=0) \n",
        "plt.show()"
      ],
      "metadata": {
        "colab": {
          "base_uri": "https://localhost:8080/",
          "height": 360
        },
        "id": "w9BU7UWY5Zdk",
        "outputId": "e6487792-dd17-42f9-cc12-8c85cc9448e6"
      },
      "execution_count": null,
      "outputs": [
        {
          "output_type": "display_data",
          "data": {
            "text/plain": [
              "<Figure size 432x288 with 2 Axes>"
            ],
            "image/png": "[encoded data removed]"
          },
          "metadata": {
            "needs_background": "light"
          }
        }
      ]
    },
    {
      "cell_type": "markdown",
      "source": [
        "our results here echo what we see in Regression - the two variables are directionally negatively correlated, but magnitute is almost zero (uncorrelated)"
      ],
      "metadata": {
        "id": "mnWptICsdZiO"
      }
    },
    {
      "cell_type": "markdown",
      "source": [
        "##Lot Number\n",
        "Next we try to answer the second question  - *Is the PLE ratio correlated with the order that a lot is auctioned? Do earlier lots perform better than those that come later?*\n",
        "\n",
        "We group the PLE values by mean around the lot_number and plot the results in a bar-chart."
      ],
      "metadata": {
        "id": "zOVtP3LYds6M"
      }
    },
    {
      "cell_type": "code",
      "source": [
        "#Does lot_number mean anythign\n",
        "dfg = df.groupby(['lot_number']).mean()['PLE']\n",
        "#dfg.plot(kind='bar')\n",
        "\n",
        "fig2, ax2 = plt.subplots(figsize=(16,8))\n",
        "#dfg.bar(\n",
        "plt.bar(dfg.index, dfg, align='center', alpha=0.5)\n",
        "plt.xlabel('lot_number')\n",
        "plt.ylabel('PLE')\n",
        "plt.title('PLE vs lot_number')\n",
        "\n"
      ],
      "metadata": {
        "colab": {
          "base_uri": "https://localhost:8080/",
          "height": 531
        },
        "id": "-FD7Umib6YWR",
        "outputId": "5434105f-dd7a-4d0f-ab36-c005ce915d6f"
      },
      "execution_count": null,
      "outputs": [
        {
          "output_type": "execute_result",
          "data": {
            "text/plain": [
              "Text(0.5, 1.0, 'PLE vs lot_number')"
            ]
          },
          "metadata": {},
          "execution_count": 13
        },
        {
          "output_type": "display_data",
          "data": {
            "text/plain": [
              "<Figure size 1152x576 with 1 Axes>"
            ],
            "image/png": "[encoded data removed]"
          },
          "metadata": {
            "needs_background": "light"
          }
        }
      ]
    },
    {
      "cell_type": "markdown",
      "source": [
        "As seen in the bar chart, the average PLE of the first and second items are the highest. The third lot_number seems to be a swing in the other direction.\n",
        "\n"
      ],
      "metadata": {
        "id": "NFu1ap1WeR-O"
      }
    },
    {
      "cell_type": "markdown",
      "source": [
        "#Non-Linear Regression\n",
        "\n",
        "Lastly we look at non-linear regression. \n",
        "\n",
        "If we zoom out and look at the scatter plot again, it appears as though a non-linear function like a polyratio curve or a negative exponential curve might fit the data better than the linear model."
      ],
      "metadata": {
        "id": "OOVhpNPSIATg"
      }
    },
    {
      "cell_type": "code",
      "source": [
        "fig, ax = plt.subplots(figsize=(12,8))\n",
        "ax.scatter(X, y)\n",
        "#ax.set_xlim(1, 5)\n",
        "#ax.set_ylim(0, 3000000);\n",
        "ax.set_xlabel(\"PLE\",fontsize=18)\n",
        "ax.set_ylabel(\"low_estimate_usd\",fontsize=18)\n",
        "\n"
      ],
      "metadata": {
        "colab": {
          "base_uri": "https://localhost:8080/",
          "height": 533
        },
        "id": "sLf3RdM0pNbL",
        "outputId": "487ebb22-5626-4289-836a-400eeb9266bd"
      },
      "execution_count": null,
      "outputs": [
        {
          "output_type": "execute_result",
          "data": {
            "text/plain": [
              "Text(0, 0.5, 'low_estimate_usd')"
            ]
          },
          "metadata": {},
          "execution_count": 17
        },
        {
          "output_type": "display_data",
          "data": {
            "text/plain": [
              "<Figure size 864x576 with 1 Axes>"
            ],
            "image/png": "[encoded data removed]"
          },
          "metadata": {
            "needs_background": "light"
          }
        }
      ]
    },
    {
      "cell_type": "markdown",
      "source": [
        "There are several curve style that could fit the data, and so we're going to cycle thru them all using *funcspinner*.\n",
        "\n",
        "\"Funcspinner,\" an open-source curve fitting library. I created this library because it was challenging to locate a list of iterable non-linear functions  that could be used to fit non-linear data. The typical 2-factor textbook regression model does not accurately reflect the complexity of real life and so a data scientist may \"spin through\" the several functions in Funcspinner to see which one best describes the underlying data. \n",
        "\n",
        "more about funcspinner here\n",
        "https://github.com/sjosephnyc1987/funcspinner\n",
        "\n",
        "Our plan here is to spin through a few different non-linear functions and then check for the quality of fit using \"standard error\". We append each model's Standard Error into a list and see if any of them produce a number significantly better than the linear fit.\n"
      ],
      "metadata": {
        "id": "rx6yevb4r0Ig"
      }
    },
    {
      "cell_type": "code",
      "source": [
        "\n",
        "#non-linear regression using funcspinner.\n",
        "\n",
        "#--------cycling through a bunch of functios for non-linear regression------\n",
        "\n",
        "list_of_functions = [\"simpleLinear\",\t\"quadratic\",\t\"cubic\",\t\"saturationGrowthRate\",\t\"simpleExponential\",\t\n",
        "                     \"simplePower\",\t\t\"michaelisMenten\",\t\"reciprocal\",\t\n",
        "                     \"bleasdaleNelder\",\t\"farazdagiHarris\",\t\"holliday\",\t\"exponential\",\t\"threeParameterLogistic\",\t\n",
        "                     \"gompertz\",\t\"weibull\",\t\t\n",
        "                     \"exponential1\",\t\"exponential2\",\t\"normal\",\t\"lognormal\",\t\"exponentialVariation\",\t\"michaelisMenten2\",\t\n",
        "                     \"michaelisMenten3\",\t\"linearLinear\",\t\"linearQuadratic\",\t\t\"quadraticQuadratic\",\t\"linear3\",\t\n",
        "                     \"gompertz2\",\t\"hill2\",\t\"sum3Exponentials\",\t\"gaussian\",]\n",
        "\n",
        "#results matrix that holds the standard error results for each model.\n",
        "results_matrix = pd.DataFrame(columns=['function_name', 'standard_error'])\n",
        "\n",
        "\n",
        "for functionname in list_of_functions:\n",
        "        \n",
        "    #get the function from the funcspinner class.\n",
        "    objective_function = funcspinner.function_return(functionname)\n",
        "    \n",
        "    #if we want to see what's in the function returned\n",
        "    import inspect\n",
        "    #print(inspect.getsource(objective_function))\n",
        "    \n",
        "    # do the actual curve fit\n",
        "    fit_paramsL, covariances = curve_fit(objective_function, xx, yy, maxfev=500000)\n",
        "\n",
        "    #for printing out the results.\n",
        "    coeffs = [\"a\",\"b\",\"c\",\"d\",\"e\",\"f\",\"g\",\"h\",\"i\",\"j\",\"k\"]\n",
        "    \n",
        "    i=0\n",
        "    for coeff in fit_paramsL:\n",
        "        #print(coeffs[i], \"=\" , coeff)\n",
        "        i = i+1\n",
        "    \n",
        "    \n",
        "    x_monotonic = np.arange(min(xx),max(xx),1)\n",
        "    y_fit = objective_function(x_monotonic,*fit_paramsL)\n",
        "    \n",
        "    \n",
        "    #to calulate the standard error\n",
        "    #---------------------------------\n",
        "    y_expected = objective_function(np.array(xx),*fit_paramsL)\n",
        "    \n",
        "    residuals = yy - y_expected\n",
        "    squaresumofresiduals = np.sum(residuals**2)\n",
        "    std_error = np.sqrt(squaresumofresiduals/len(y_expected))\n",
        "    print(\"standard error from the \",functionname , \"model = \" ,str(round(std_error,2)))\n",
        "    \n",
        "    results_matrix = results_matrix.append({'function_name':functionname , 'standard_error': str(round(std_error,2))}, ignore_index=True)\n",
        " \n"
      ],
      "metadata": {
        "id": "O6Z4pEniH58J"
      },
      "execution_count": null,
      "outputs": []
    },
    {
      "cell_type": "markdown",
      "source": [],
      "metadata": {
        "id": "9wa5iiDYtCe5"
      }
    },
    {
      "cell_type": "code",
      "source": [
        "print(results_matrix.sort_values(by=['standard_error']))"
      ],
      "metadata": {
        "colab": {
          "base_uri": "https://localhost:8080/"
        },
        "id": "du_ziUVnJ2Io",
        "outputId": "70d01c5e-7994-4b95-fde5-26bf7be82f06"
      },
      "execution_count": null,
      "outputs": [
        {
          "output_type": "stream",
          "name": "stdout",
          "text": [
            "             function_name standard_error\n",
            "18               lognormal     4263934.38\n",
            "29                gaussian     4800647.54\n",
            "15            exponential1     4800960.42\n",
            "16            exponential2     4824983.49\n",
            "4        simpleExponential     4825649.11\n",
            "19    exponentialVariation     4825649.11\n",
            "28        sum3Exponentials     4825649.11\n",
            "2                    cubic      4826399.4\n",
            "5              simplePower     4831337.19\n",
            "1                quadratic     4833368.98\n",
            "24      quadraticQuadratic     4833368.98\n",
            "6          michaelisMenten     4844968.63\n",
            "21        michaelisMenten3     4844968.63\n",
            "20        michaelisMenten2     4844968.63\n",
            "3     saturationGrowthRate     4844968.63\n",
            "25                 linear3     4852606.32\n",
            "22            linearLinear     4852606.32\n",
            "0             simpleLinear     4852606.32\n",
            "17                  normal      4852715.1\n",
            "13                gompertz     4867280.65\n",
            "12  threeParameterLogistic     4867280.65\n",
            "26               gompertz2     4867280.65\n",
            "11             exponential     4867291.44\n",
            "23         linearQuadratic     5013203.88\n",
            "9          farazdagiHarris     5095317.15\n",
            "7               reciprocal     5095495.84\n",
            "10                holliday     5095499.98\n",
            "14                 weibull     5095645.33\n",
            "27                   hill2     5095774.71\n",
            "8          bleasdaleNelder     5095774.76\n"
          ]
        }
      ]
    },
    {
      "cell_type": "markdown",
      "source": [
        "It appears that we dont have too much to write home about. The lognormal curve has a slightly better SE but even this is not very remarkable.\n",
        "\n",
        "It appears that there's no real strong connection between the 2 variables."
      ],
      "metadata": {
        "id": "l5dYX8cmtK1U"
      }
    }
  ]
}